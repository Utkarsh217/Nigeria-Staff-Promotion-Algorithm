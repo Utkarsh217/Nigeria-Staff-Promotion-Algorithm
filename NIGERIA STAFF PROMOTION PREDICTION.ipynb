{
 "cells": [
  {
   "cell_type": "markdown",
   "metadata": {},
   "source": [
    "### Importing Libraries"
   ]
  },
  {
   "cell_type": "code",
   "execution_count": 1,
   "metadata": {},
   "outputs": [],
   "source": [
    "import pandas as pd\n",
    "import numpy as np\n",
    "import matplotlib.pyplot as plt\n",
    "import seaborn as sns"
   ]
  },
  {
   "cell_type": "markdown",
   "metadata": {},
   "source": [
    "### Reading Dataset"
   ]
  },
  {
   "cell_type": "code",
   "execution_count": 2,
   "metadata": {},
   "outputs": [],
   "source": [
    "train = pd.read_csv(r'D:\\Downloads\\Data Science\\Kaggle\\Nigeria Staff Promotion\\train.csv')\n",
    "test = pd.read_csv(r'D:\\Downloads\\Data Science\\Kaggle\\Nigeria Staff Promotion\\test.csv')\n",
    "ss = pd.read_csv(r'D:\\Downloads\\Data Science\\Kaggle\\Nigeria Staff Promotion\\ss.csv')"
   ]
  },
  {
   "cell_type": "markdown",
   "metadata": {},
   "source": [
    "### Examining Data"
   ]
  },
  {
   "cell_type": "code",
   "execution_count": 3,
   "metadata": {},
   "outputs": [
    {
     "data": {
      "text/html": [
       "<div>\n",
       "<style scoped>\n",
       "    .dataframe tbody tr th:only-of-type {\n",
       "        vertical-align: middle;\n",
       "    }\n",
       "\n",
       "    .dataframe tbody tr th {\n",
       "        vertical-align: top;\n",
       "    }\n",
       "\n",
       "    .dataframe thead th {\n",
       "        text-align: right;\n",
       "    }\n",
       "</style>\n",
       "<table border=\"1\" class=\"dataframe\">\n",
       "  <thead>\n",
       "    <tr style=\"text-align: right;\">\n",
       "      <th></th>\n",
       "      <th>EmployeeNo</th>\n",
       "      <th>Division</th>\n",
       "      <th>Qualification</th>\n",
       "      <th>Gender</th>\n",
       "      <th>Channel_of_Recruitment</th>\n",
       "      <th>Trainings_Attended</th>\n",
       "      <th>Year_of_birth</th>\n",
       "      <th>Last_performance_score</th>\n",
       "      <th>Year_of_recruitment</th>\n",
       "      <th>Targets_met</th>\n",
       "      <th>Previous_Award</th>\n",
       "      <th>Training_score_average</th>\n",
       "      <th>State_Of_Origin</th>\n",
       "      <th>Foreign_schooled</th>\n",
       "      <th>Marital_Status</th>\n",
       "      <th>Past_Disciplinary_Action</th>\n",
       "      <th>Previous_IntraDepartmental_Movement</th>\n",
       "      <th>No_of_previous_employers</th>\n",
       "      <th>Promoted_or_Not</th>\n",
       "    </tr>\n",
       "  </thead>\n",
       "  <tbody>\n",
       "    <tr>\n",
       "      <th>0</th>\n",
       "      <td>YAK/S/00001</td>\n",
       "      <td>Commercial Sales and Marketing</td>\n",
       "      <td>MSc, MBA and PhD</td>\n",
       "      <td>Female</td>\n",
       "      <td>Direct Internal process</td>\n",
       "      <td>2</td>\n",
       "      <td>1986</td>\n",
       "      <td>12.5</td>\n",
       "      <td>2011</td>\n",
       "      <td>1</td>\n",
       "      <td>0</td>\n",
       "      <td>41</td>\n",
       "      <td>ANAMBRA</td>\n",
       "      <td>No</td>\n",
       "      <td>Married</td>\n",
       "      <td>No</td>\n",
       "      <td>No</td>\n",
       "      <td>0</td>\n",
       "      <td>0</td>\n",
       "    </tr>\n",
       "    <tr>\n",
       "      <th>1</th>\n",
       "      <td>YAK/S/00002</td>\n",
       "      <td>Customer Support and Field Operations</td>\n",
       "      <td>First Degree or HND</td>\n",
       "      <td>Male</td>\n",
       "      <td>Agency and others</td>\n",
       "      <td>2</td>\n",
       "      <td>1991</td>\n",
       "      <td>12.5</td>\n",
       "      <td>2015</td>\n",
       "      <td>0</td>\n",
       "      <td>0</td>\n",
       "      <td>52</td>\n",
       "      <td>ANAMBRA</td>\n",
       "      <td>Yes</td>\n",
       "      <td>Married</td>\n",
       "      <td>No</td>\n",
       "      <td>No</td>\n",
       "      <td>0</td>\n",
       "      <td>0</td>\n",
       "    </tr>\n",
       "    <tr>\n",
       "      <th>2</th>\n",
       "      <td>YAK/S/00003</td>\n",
       "      <td>Commercial Sales and Marketing</td>\n",
       "      <td>First Degree or HND</td>\n",
       "      <td>Male</td>\n",
       "      <td>Direct Internal process</td>\n",
       "      <td>2</td>\n",
       "      <td>1987</td>\n",
       "      <td>7.5</td>\n",
       "      <td>2012</td>\n",
       "      <td>0</td>\n",
       "      <td>0</td>\n",
       "      <td>42</td>\n",
       "      <td>KATSINA</td>\n",
       "      <td>Yes</td>\n",
       "      <td>Married</td>\n",
       "      <td>No</td>\n",
       "      <td>No</td>\n",
       "      <td>0</td>\n",
       "      <td>0</td>\n",
       "    </tr>\n",
       "    <tr>\n",
       "      <th>3</th>\n",
       "      <td>YAK/S/00004</td>\n",
       "      <td>Commercial Sales and Marketing</td>\n",
       "      <td>First Degree or HND</td>\n",
       "      <td>Male</td>\n",
       "      <td>Agency and others</td>\n",
       "      <td>3</td>\n",
       "      <td>1982</td>\n",
       "      <td>2.5</td>\n",
       "      <td>2009</td>\n",
       "      <td>0</td>\n",
       "      <td>0</td>\n",
       "      <td>42</td>\n",
       "      <td>NIGER</td>\n",
       "      <td>Yes</td>\n",
       "      <td>Single</td>\n",
       "      <td>No</td>\n",
       "      <td>No</td>\n",
       "      <td>1</td>\n",
       "      <td>0</td>\n",
       "    </tr>\n",
       "    <tr>\n",
       "      <th>4</th>\n",
       "      <td>YAK/S/00006</td>\n",
       "      <td>Information and Strategy</td>\n",
       "      <td>First Degree or HND</td>\n",
       "      <td>Male</td>\n",
       "      <td>Direct Internal process</td>\n",
       "      <td>3</td>\n",
       "      <td>1990</td>\n",
       "      <td>7.5</td>\n",
       "      <td>2012</td>\n",
       "      <td>0</td>\n",
       "      <td>0</td>\n",
       "      <td>77</td>\n",
       "      <td>AKWA IBOM</td>\n",
       "      <td>Yes</td>\n",
       "      <td>Married</td>\n",
       "      <td>No</td>\n",
       "      <td>No</td>\n",
       "      <td>1</td>\n",
       "      <td>0</td>\n",
       "    </tr>\n",
       "  </tbody>\n",
       "</table>\n",
       "</div>"
      ],
      "text/plain": [
       "    EmployeeNo                               Division        Qualification  \\\n",
       "0  YAK/S/00001         Commercial Sales and Marketing     MSc, MBA and PhD   \n",
       "1  YAK/S/00002  Customer Support and Field Operations  First Degree or HND   \n",
       "2  YAK/S/00003         Commercial Sales and Marketing  First Degree or HND   \n",
       "3  YAK/S/00004         Commercial Sales and Marketing  First Degree or HND   \n",
       "4  YAK/S/00006               Information and Strategy  First Degree or HND   \n",
       "\n",
       "   Gender   Channel_of_Recruitment  Trainings_Attended  Year_of_birth  \\\n",
       "0  Female  Direct Internal process                   2           1986   \n",
       "1    Male        Agency and others                   2           1991   \n",
       "2    Male  Direct Internal process                   2           1987   \n",
       "3    Male        Agency and others                   3           1982   \n",
       "4    Male  Direct Internal process                   3           1990   \n",
       "\n",
       "   Last_performance_score  Year_of_recruitment  Targets_met  Previous_Award  \\\n",
       "0                    12.5                 2011            1               0   \n",
       "1                    12.5                 2015            0               0   \n",
       "2                     7.5                 2012            0               0   \n",
       "3                     2.5                 2009            0               0   \n",
       "4                     7.5                 2012            0               0   \n",
       "\n",
       "   Training_score_average State_Of_Origin Foreign_schooled Marital_Status  \\\n",
       "0                      41         ANAMBRA               No        Married   \n",
       "1                      52         ANAMBRA              Yes        Married   \n",
       "2                      42         KATSINA              Yes        Married   \n",
       "3                      42           NIGER              Yes         Single   \n",
       "4                      77       AKWA IBOM              Yes        Married   \n",
       "\n",
       "  Past_Disciplinary_Action Previous_IntraDepartmental_Movement  \\\n",
       "0                       No                                  No   \n",
       "1                       No                                  No   \n",
       "2                       No                                  No   \n",
       "3                       No                                  No   \n",
       "4                       No                                  No   \n",
       "\n",
       "  No_of_previous_employers  Promoted_or_Not  \n",
       "0                        0                0  \n",
       "1                        0                0  \n",
       "2                        0                0  \n",
       "3                        1                0  \n",
       "4                        1                0  "
      ]
     },
     "execution_count": 3,
     "metadata": {},
     "output_type": "execute_result"
    }
   ],
   "source": [
    "train.head()"
   ]
  },
  {
   "cell_type": "code",
   "execution_count": 4,
   "metadata": {},
   "outputs": [
    {
     "data": {
      "text/html": [
       "<div>\n",
       "<style scoped>\n",
       "    .dataframe tbody tr th:only-of-type {\n",
       "        vertical-align: middle;\n",
       "    }\n",
       "\n",
       "    .dataframe tbody tr th {\n",
       "        vertical-align: top;\n",
       "    }\n",
       "\n",
       "    .dataframe thead th {\n",
       "        text-align: right;\n",
       "    }\n",
       "</style>\n",
       "<table border=\"1\" class=\"dataframe\">\n",
       "  <thead>\n",
       "    <tr style=\"text-align: right;\">\n",
       "      <th></th>\n",
       "      <th>EmployeeNo</th>\n",
       "      <th>Division</th>\n",
       "      <th>Qualification</th>\n",
       "      <th>Gender</th>\n",
       "      <th>Channel_of_Recruitment</th>\n",
       "      <th>Trainings_Attended</th>\n",
       "      <th>Year_of_birth</th>\n",
       "      <th>Last_performance_score</th>\n",
       "      <th>Year_of_recruitment</th>\n",
       "      <th>Targets_met</th>\n",
       "      <th>Previous_Award</th>\n",
       "      <th>Training_score_average</th>\n",
       "      <th>State_Of_Origin</th>\n",
       "      <th>Foreign_schooled</th>\n",
       "      <th>Marital_Status</th>\n",
       "      <th>Past_Disciplinary_Action</th>\n",
       "      <th>Previous_IntraDepartmental_Movement</th>\n",
       "      <th>No_of_previous_employers</th>\n",
       "    </tr>\n",
       "  </thead>\n",
       "  <tbody>\n",
       "    <tr>\n",
       "      <th>0</th>\n",
       "      <td>YAK/S/00005</td>\n",
       "      <td>Information Technology and Solution Support</td>\n",
       "      <td>First Degree or HND</td>\n",
       "      <td>Male</td>\n",
       "      <td>Agency and others</td>\n",
       "      <td>2</td>\n",
       "      <td>1976</td>\n",
       "      <td>7.5</td>\n",
       "      <td>2017</td>\n",
       "      <td>0</td>\n",
       "      <td>0</td>\n",
       "      <td>65</td>\n",
       "      <td>FCT</td>\n",
       "      <td>Yes</td>\n",
       "      <td>Married</td>\n",
       "      <td>No</td>\n",
       "      <td>No</td>\n",
       "      <td>1</td>\n",
       "    </tr>\n",
       "    <tr>\n",
       "      <th>1</th>\n",
       "      <td>YAK/S/00011</td>\n",
       "      <td>Information Technology and Solution Support</td>\n",
       "      <td>NaN</td>\n",
       "      <td>Male</td>\n",
       "      <td>Direct Internal process</td>\n",
       "      <td>2</td>\n",
       "      <td>1991</td>\n",
       "      <td>0.0</td>\n",
       "      <td>2018</td>\n",
       "      <td>0</td>\n",
       "      <td>0</td>\n",
       "      <td>69</td>\n",
       "      <td>OGUN</td>\n",
       "      <td>Yes</td>\n",
       "      <td>Married</td>\n",
       "      <td>No</td>\n",
       "      <td>No</td>\n",
       "      <td>1</td>\n",
       "    </tr>\n",
       "    <tr>\n",
       "      <th>2</th>\n",
       "      <td>YAK/S/00015</td>\n",
       "      <td>Research and Innovation</td>\n",
       "      <td>MSc, MBA and PhD</td>\n",
       "      <td>Male</td>\n",
       "      <td>Direct Internal process</td>\n",
       "      <td>2</td>\n",
       "      <td>1984</td>\n",
       "      <td>7.5</td>\n",
       "      <td>2012</td>\n",
       "      <td>0</td>\n",
       "      <td>0</td>\n",
       "      <td>76</td>\n",
       "      <td>KANO</td>\n",
       "      <td>Yes</td>\n",
       "      <td>Married</td>\n",
       "      <td>No</td>\n",
       "      <td>No</td>\n",
       "      <td>1</td>\n",
       "    </tr>\n",
       "    <tr>\n",
       "      <th>3</th>\n",
       "      <td>YAK/S/00016</td>\n",
       "      <td>Customer Support and Field Operations</td>\n",
       "      <td>First Degree or HND</td>\n",
       "      <td>Male</td>\n",
       "      <td>Agency and others</td>\n",
       "      <td>2</td>\n",
       "      <td>1984</td>\n",
       "      <td>2.5</td>\n",
       "      <td>2009</td>\n",
       "      <td>0</td>\n",
       "      <td>0</td>\n",
       "      <td>52</td>\n",
       "      <td>RIVERS</td>\n",
       "      <td>No</td>\n",
       "      <td>Single</td>\n",
       "      <td>No</td>\n",
       "      <td>No</td>\n",
       "      <td>1</td>\n",
       "    </tr>\n",
       "    <tr>\n",
       "      <th>4</th>\n",
       "      <td>YAK/S/00017</td>\n",
       "      <td>Information Technology and Solution Support</td>\n",
       "      <td>First Degree or HND</td>\n",
       "      <td>Male</td>\n",
       "      <td>Agency and others</td>\n",
       "      <td>2</td>\n",
       "      <td>1983</td>\n",
       "      <td>7.5</td>\n",
       "      <td>2014</td>\n",
       "      <td>1</td>\n",
       "      <td>0</td>\n",
       "      <td>69</td>\n",
       "      <td>FCT</td>\n",
       "      <td>Yes</td>\n",
       "      <td>Married</td>\n",
       "      <td>No</td>\n",
       "      <td>No</td>\n",
       "      <td>0</td>\n",
       "    </tr>\n",
       "  </tbody>\n",
       "</table>\n",
       "</div>"
      ],
      "text/plain": [
       "    EmployeeNo                                     Division  \\\n",
       "0  YAK/S/00005  Information Technology and Solution Support   \n",
       "1  YAK/S/00011  Information Technology and Solution Support   \n",
       "2  YAK/S/00015                      Research and Innovation   \n",
       "3  YAK/S/00016        Customer Support and Field Operations   \n",
       "4  YAK/S/00017  Information Technology and Solution Support   \n",
       "\n",
       "         Qualification Gender   Channel_of_Recruitment  Trainings_Attended  \\\n",
       "0  First Degree or HND   Male        Agency and others                   2   \n",
       "1                  NaN   Male  Direct Internal process                   2   \n",
       "2     MSc, MBA and PhD   Male  Direct Internal process                   2   \n",
       "3  First Degree or HND   Male        Agency and others                   2   \n",
       "4  First Degree or HND   Male        Agency and others                   2   \n",
       "\n",
       "   Year_of_birth  Last_performance_score  Year_of_recruitment  Targets_met  \\\n",
       "0           1976                     7.5                 2017            0   \n",
       "1           1991                     0.0                 2018            0   \n",
       "2           1984                     7.5                 2012            0   \n",
       "3           1984                     2.5                 2009            0   \n",
       "4           1983                     7.5                 2014            1   \n",
       "\n",
       "   Previous_Award  Training_score_average State_Of_Origin Foreign_schooled  \\\n",
       "0               0                      65             FCT              Yes   \n",
       "1               0                      69            OGUN              Yes   \n",
       "2               0                      76            KANO              Yes   \n",
       "3               0                      52          RIVERS               No   \n",
       "4               0                      69             FCT              Yes   \n",
       "\n",
       "  Marital_Status Past_Disciplinary_Action Previous_IntraDepartmental_Movement  \\\n",
       "0        Married                       No                                  No   \n",
       "1        Married                       No                                  No   \n",
       "2        Married                       No                                  No   \n",
       "3         Single                       No                                  No   \n",
       "4        Married                       No                                  No   \n",
       "\n",
       "  No_of_previous_employers  \n",
       "0                        1  \n",
       "1                        1  \n",
       "2                        1  \n",
       "3                        1  \n",
       "4                        0  "
      ]
     },
     "execution_count": 4,
     "metadata": {},
     "output_type": "execute_result"
    }
   ],
   "source": [
    "test.head()"
   ]
  },
  {
   "cell_type": "code",
   "execution_count": 5,
   "metadata": {},
   "outputs": [
    {
     "data": {
      "text/html": [
       "<div>\n",
       "<style scoped>\n",
       "    .dataframe tbody tr th:only-of-type {\n",
       "        vertical-align: middle;\n",
       "    }\n",
       "\n",
       "    .dataframe tbody tr th {\n",
       "        vertical-align: top;\n",
       "    }\n",
       "\n",
       "    .dataframe thead th {\n",
       "        text-align: right;\n",
       "    }\n",
       "</style>\n",
       "<table border=\"1\" class=\"dataframe\">\n",
       "  <thead>\n",
       "    <tr style=\"text-align: right;\">\n",
       "      <th></th>\n",
       "      <th>EmployeeNo</th>\n",
       "      <th>Promoted_or_Not</th>\n",
       "    </tr>\n",
       "  </thead>\n",
       "  <tbody>\n",
       "    <tr>\n",
       "      <th>0</th>\n",
       "      <td>YAK/S/34385</td>\n",
       "      <td>1</td>\n",
       "    </tr>\n",
       "    <tr>\n",
       "      <th>1</th>\n",
       "      <td>YAK/S/27825</td>\n",
       "      <td>1</td>\n",
       "    </tr>\n",
       "    <tr>\n",
       "      <th>2</th>\n",
       "      <td>YAK/S/23870</td>\n",
       "      <td>1</td>\n",
       "    </tr>\n",
       "    <tr>\n",
       "      <th>3</th>\n",
       "      <td>YAK/S/54784</td>\n",
       "      <td>1</td>\n",
       "    </tr>\n",
       "    <tr>\n",
       "      <th>4</th>\n",
       "      <td>YAK/S/25058</td>\n",
       "      <td>1</td>\n",
       "    </tr>\n",
       "  </tbody>\n",
       "</table>\n",
       "</div>"
      ],
      "text/plain": [
       "    EmployeeNo  Promoted_or_Not\n",
       "0  YAK/S/34385                1\n",
       "1  YAK/S/27825                1\n",
       "2  YAK/S/23870                1\n",
       "3  YAK/S/54784                1\n",
       "4  YAK/S/25058                1"
      ]
     },
     "execution_count": 5,
     "metadata": {},
     "output_type": "execute_result"
    }
   ],
   "source": [
    "ss.head()"
   ]
  },
  {
   "cell_type": "markdown",
   "metadata": {},
   "source": [
    "### Data Preprocessing"
   ]
  },
  {
   "cell_type": "code",
   "execution_count": 6,
   "metadata": {},
   "outputs": [
    {
     "data": {
      "text/plain": [
       "EmployeeNo                                0\n",
       "Division                                  0\n",
       "Qualification                          1679\n",
       "Gender                                    0\n",
       "Channel_of_Recruitment                    0\n",
       "Trainings_Attended                        0\n",
       "Year_of_birth                             0\n",
       "Last_performance_score                    0\n",
       "Year_of_recruitment                       0\n",
       "Targets_met                               0\n",
       "Previous_Award                            0\n",
       "Training_score_average                    0\n",
       "State_Of_Origin                           0\n",
       "Foreign_schooled                          0\n",
       "Marital_Status                            0\n",
       "Past_Disciplinary_Action                  0\n",
       "Previous_IntraDepartmental_Movement       0\n",
       "No_of_previous_employers                  0\n",
       "Promoted_or_Not                           0\n",
       "dtype: int64"
      ]
     },
     "execution_count": 6,
     "metadata": {},
     "output_type": "execute_result"
    }
   ],
   "source": [
    "train.isna().sum()"
   ]
  },
  {
   "cell_type": "code",
   "execution_count": 7,
   "metadata": {},
   "outputs": [
    {
     "data": {
      "text/plain": [
       "EmployeeNo                               0\n",
       "Division                                 0\n",
       "Qualification                          730\n",
       "Gender                                   0\n",
       "Channel_of_Recruitment                   0\n",
       "Trainings_Attended                       0\n",
       "Year_of_birth                            0\n",
       "Last_performance_score                   0\n",
       "Year_of_recruitment                      0\n",
       "Targets_met                              0\n",
       "Previous_Award                           0\n",
       "Training_score_average                   0\n",
       "State_Of_Origin                          0\n",
       "Foreign_schooled                         0\n",
       "Marital_Status                           0\n",
       "Past_Disciplinary_Action                 0\n",
       "Previous_IntraDepartmental_Movement      0\n",
       "No_of_previous_employers                 0\n",
       "dtype: int64"
      ]
     },
     "execution_count": 7,
     "metadata": {},
     "output_type": "execute_result"
    }
   ],
   "source": [
    "test.isna().sum()"
   ]
  },
  {
   "cell_type": "code",
   "execution_count": 8,
   "metadata": {},
   "outputs": [
    {
     "data": {
      "text/plain": [
       "array(['MSc, MBA and PhD', 'First Degree or HND', nan,\n",
       "       'Non-University Education'], dtype=object)"
      ]
     },
     "execution_count": 8,
     "metadata": {},
     "output_type": "execute_result"
    }
   ],
   "source": [
    "train['Qualification'].unique()"
   ]
  },
  {
   "cell_type": "code",
   "execution_count": 9,
   "metadata": {},
   "outputs": [],
   "source": [
    "train['Qualification'].fillna(\"Others\",inplace=True)\n",
    "test['Qualification'].fillna(\"Others\",inplace=True)"
   ]
  },
  {
   "cell_type": "code",
   "execution_count": 10,
   "metadata": {},
   "outputs": [
    {
     "data": {
      "text/plain": [
       "array(['MSc, MBA and PhD', 'First Degree or HND', 'Others',\n",
       "       'Non-University Education'], dtype=object)"
      ]
     },
     "execution_count": 10,
     "metadata": {},
     "output_type": "execute_result"
    }
   ],
   "source": [
    "train['Qualification'].unique()"
   ]
  },
  {
   "cell_type": "code",
   "execution_count": 11,
   "metadata": {},
   "outputs": [
    {
     "data": {
      "text/plain": [
       "EmployeeNo                             0\n",
       "Division                               0\n",
       "Qualification                          0\n",
       "Gender                                 0\n",
       "Channel_of_Recruitment                 0\n",
       "Trainings_Attended                     0\n",
       "Year_of_birth                          0\n",
       "Last_performance_score                 0\n",
       "Year_of_recruitment                    0\n",
       "Targets_met                            0\n",
       "Previous_Award                         0\n",
       "Training_score_average                 0\n",
       "State_Of_Origin                        0\n",
       "Foreign_schooled                       0\n",
       "Marital_Status                         0\n",
       "Past_Disciplinary_Action               0\n",
       "Previous_IntraDepartmental_Movement    0\n",
       "No_of_previous_employers               0\n",
       "Promoted_or_Not                        0\n",
       "dtype: int64"
      ]
     },
     "execution_count": 11,
     "metadata": {},
     "output_type": "execute_result"
    }
   ],
   "source": [
    "train.isna().sum()"
   ]
  },
  {
   "cell_type": "code",
   "execution_count": 12,
   "metadata": {},
   "outputs": [
    {
     "data": {
      "text/plain": [
       "EmployeeNo                             0\n",
       "Division                               0\n",
       "Qualification                          0\n",
       "Gender                                 0\n",
       "Channel_of_Recruitment                 0\n",
       "Trainings_Attended                     0\n",
       "Year_of_birth                          0\n",
       "Last_performance_score                 0\n",
       "Year_of_recruitment                    0\n",
       "Targets_met                            0\n",
       "Previous_Award                         0\n",
       "Training_score_average                 0\n",
       "State_Of_Origin                        0\n",
       "Foreign_schooled                       0\n",
       "Marital_Status                         0\n",
       "Past_Disciplinary_Action               0\n",
       "Previous_IntraDepartmental_Movement    0\n",
       "No_of_previous_employers               0\n",
       "dtype: int64"
      ]
     },
     "execution_count": 12,
     "metadata": {},
     "output_type": "execute_result"
    }
   ],
   "source": [
    "test.isna().sum()"
   ]
  },
  {
   "cell_type": "markdown",
   "metadata": {},
   "source": [
    "### EDA"
   ]
  },
  {
   "cell_type": "code",
   "execution_count": 13,
   "metadata": {},
   "outputs": [
    {
     "data": {
      "text/plain": [
       "Index(['EmployeeNo', 'Division', 'Qualification', 'Gender',\n",
       "       'Channel_of_Recruitment', 'Trainings_Attended', 'Year_of_birth',\n",
       "       'Last_performance_score', 'Year_of_recruitment', 'Targets_met',\n",
       "       'Previous_Award', 'Training_score_average', 'State_Of_Origin',\n",
       "       'Foreign_schooled', 'Marital_Status', 'Past_Disciplinary_Action',\n",
       "       'Previous_IntraDepartmental_Movement', 'No_of_previous_employers',\n",
       "       'Promoted_or_Not'],\n",
       "      dtype='object')"
      ]
     },
     "execution_count": 13,
     "metadata": {},
     "output_type": "execute_result"
    }
   ],
   "source": [
    "train.columns"
   ]
  },
  {
   "cell_type": "code",
   "execution_count": 14,
   "metadata": {},
   "outputs": [
    {
     "data": {
      "text/plain": [
       "<matplotlib.axes._subplots.AxesSubplot at 0x20c0c116208>"
      ]
     },
     "execution_count": 14,
     "metadata": {},
     "output_type": "execute_result"
    },
    {
     "data": {
      "image/png": "[encoded data removed]",
      "text/plain": [
       "<Figure size 1800x720 with 1 Axes>"
      ]
     },
     "metadata": {
      "needs_background": "light"
     },
     "output_type": "display_data"
    }
   ],
   "source": [
    "fig, ax = plt.subplots(figsize=(25,10))\n",
    "sns.countplot(data=train,x = 'Division',hue = 'Promoted_or_Not',ax=ax)"
   ]
  },
  {
   "cell_type": "code",
   "execution_count": 15,
   "metadata": {},
   "outputs": [
    {
     "data": {
      "text/plain": [
       "<matplotlib.axes._subplots.AxesSubplot at 0x20c0c221f60>"
      ]
     },
     "execution_count": 15,
     "metadata": {},
     "output_type": "execute_result"
    },
    {
     "data": {
      "image/png": "[encoded data removed]",
      "text/plain": [
       "<Figure size 1800x720 with 1 Axes>"
      ]
     },
     "metadata": {
      "needs_background": "light"
     },
     "output_type": "display_data"
    }
   ],
   "source": [
    "fig, ax = plt.subplots(figsize=(25,10))\n",
    "sns.countplot(data=train,x = 'Qualification',hue = 'Promoted_or_Not',ax=ax)"
   ]
  },
  {
   "cell_type": "code",
   "execution_count": 16,
   "metadata": {},
   "outputs": [
    {
     "data": {
      "text/plain": [
       "<matplotlib.axes._subplots.AxesSubplot at 0x20c0c2adfd0>"
      ]
     },
     "execution_count": 16,
     "metadata": {},
     "output_type": "execute_result"
    },
    {
     "data": {
      "image/png": "[encoded data removed]",
      "text/plain": [
       "<Figure size 1800x720 with 1 Axes>"
      ]
     },
     "metadata": {
      "needs_background": "light"
     },
     "output_type": "display_data"
    }
   ],
   "source": [
    "fig, ax = plt.subplots(figsize=(25,10))\n",
    "sns.countplot(data=train,x = 'Gender',hue = 'Promoted_or_Not',ax=ax)"
   ]
  },
  {
   "cell_type": "code",
   "execution_count": 17,
   "metadata": {},
   "outputs": [
    {
     "data": {
      "text/plain": [
       "<matplotlib.axes._subplots.AxesSubplot at 0x20c0c311278>"
      ]
     },
     "execution_count": 17,
     "metadata": {},
     "output_type": "execute_result"
    },
    {
     "data": {
      "image/png": "[encoded data removed]",
      "text/plain": [
       "<Figure size 1800x720 with 1 Axes>"
      ]
     },
     "metadata": {
      "needs_background": "light"
     },
     "output_type": "display_data"
    }
   ],
   "source": [
    "fig, ax = plt.subplots(figsize=(25,10))\n",
    "sns.countplot(data=train,x = 'Channel_of_Recruitment',hue = 'Promoted_or_Not',ax=ax)"
   ]
  },
  {
   "cell_type": "code",
   "execution_count": 18,
   "metadata": {},
   "outputs": [
    {
     "data": {
      "text/plain": [
       "<matplotlib.axes._subplots.AxesSubplot at 0x20c0c37eb70>"
      ]
     },
     "execution_count": 18,
     "metadata": {},
     "output_type": "execute_result"
    },
    {
     "data": {
      "image/png": "[encoded data removed]",
      "text/plain": [
       "<Figure size 1800x720 with 1 Axes>"
      ]
     },
     "metadata": {
      "needs_background": "light"
     },
     "output_type": "display_data"
    }
   ],
   "source": [
    "fig, ax = plt.subplots(figsize=(25,10))\n",
    "sns.countplot(data=train,x = 'Trainings_Attended',hue = 'Promoted_or_Not',ax=ax)"
   ]
  },
  {
   "cell_type": "code",
   "execution_count": 19,
   "metadata": {},
   "outputs": [
    {
     "data": {
      "text/plain": [
       "<matplotlib.axes._subplots.AxesSubplot at 0x20c0e67cd30>"
      ]
     },
     "execution_count": 19,
     "metadata": {},
     "output_type": "execute_result"
    },
    {
     "data": {
      "image/png": "[encoded data removed]",
      "text/plain": [
       "<Figure size 1800x720 with 1 Axes>"
      ]
     },
     "metadata": {
      "needs_background": "light"
     },
     "output_type": "display_data"
    }
   ],
   "source": [
    "fig, ax = plt.subplots(figsize=(25,10))\n",
    "sns.countplot(data=train,x = 'Targets_met',hue = 'Promoted_or_Not',ax=ax)"
   ]
  },
  {
   "cell_type": "code",
   "execution_count": 20,
   "metadata": {},
   "outputs": [
    {
     "data": {
      "text/plain": [
       "<matplotlib.axes._subplots.AxesSubplot at 0x20c0c365f98>"
      ]
     },
     "execution_count": 20,
     "metadata": {},
     "output_type": "execute_result"
    },
    {
     "data": {
      "image/png": "[encoded data removed]",
      "text/plain": [
       "<Figure size 1800x720 with 1 Axes>"
      ]
     },
     "metadata": {
      "needs_background": "light"
     },
     "output_type": "display_data"
    }
   ],
   "source": [
    "fig, ax = plt.subplots(figsize=(25,10))\n",
    "sns.countplot(data=train,x = 'Previous_Award',hue = 'Promoted_or_Not',ax=ax)"
   ]
  },
  {
   "cell_type": "markdown",
   "metadata": {},
   "source": [
    "### Splitting Data"
   ]
  },
  {
   "cell_type": "code",
   "execution_count": 21,
   "metadata": {},
   "outputs": [
    {
     "name": "stdout",
     "output_type": "stream",
     "text": [
      "(38312, 19) (28734, 19) (9578, 19)\n"
     ]
    }
   ],
   "source": [
    "from sklearn.model_selection import train_test_split\n",
    "train_data , test_data = train_test_split(train, test_size = 0.25)\n",
    "print(train.shape,train_data.shape,test_data.shape)"
   ]
  },
  {
   "cell_type": "markdown",
   "metadata": {},
   "source": [
    "### Feature Engineering"
   ]
  },
  {
   "cell_type": "code",
   "execution_count": 22,
   "metadata": {},
   "outputs": [
    {
     "data": {
      "text/plain": [
       "<matplotlib.axes._subplots.AxesSubplot at 0x20c0fcfeeb8>"
      ]
     },
     "execution_count": 22,
     "metadata": {},
     "output_type": "execute_result"
    },
    {
     "data": {
      "image/png": "[encoded data removed]",
      "text/plain": [
       "<Figure size 1440x720 with 2 Axes>"
      ]
     },
     "metadata": {
      "needs_background": "light"
     },
     "output_type": "display_data"
    }
   ],
   "source": [
    "fig,ax=plt.subplots(figsize=(20,10))\n",
    "sns.heatmap(train_data.corr(),annot=True,annot_kws={'size':12})"
   ]
  },
  {
   "cell_type": "code",
   "execution_count": 23,
   "metadata": {},
   "outputs": [
    {
     "data": {
      "text/html": [
       "<div>\n",
       "<style scoped>\n",
       "    .dataframe tbody tr th:only-of-type {\n",
       "        vertical-align: middle;\n",
       "    }\n",
       "\n",
       "    .dataframe tbody tr th {\n",
       "        vertical-align: top;\n",
       "    }\n",
       "\n",
       "    .dataframe thead th {\n",
       "        text-align: right;\n",
       "    }\n",
       "</style>\n",
       "<table border=\"1\" class=\"dataframe\">\n",
       "  <thead>\n",
       "    <tr style=\"text-align: right;\">\n",
       "      <th></th>\n",
       "      <th>EmployeeNo</th>\n",
       "      <th>Division</th>\n",
       "      <th>Qualification</th>\n",
       "      <th>Gender</th>\n",
       "      <th>Channel_of_Recruitment</th>\n",
       "      <th>Trainings_Attended</th>\n",
       "      <th>Year_of_birth</th>\n",
       "      <th>Last_performance_score</th>\n",
       "      <th>Year_of_recruitment</th>\n",
       "      <th>Targets_met</th>\n",
       "      <th>Previous_Award</th>\n",
       "      <th>Training_score_average</th>\n",
       "      <th>State_Of_Origin</th>\n",
       "      <th>Foreign_schooled</th>\n",
       "      <th>Marital_Status</th>\n",
       "      <th>Past_Disciplinary_Action</th>\n",
       "      <th>Previous_IntraDepartmental_Movement</th>\n",
       "      <th>No_of_previous_employers</th>\n",
       "      <th>Promoted_or_Not</th>\n",
       "    </tr>\n",
       "  </thead>\n",
       "  <tbody>\n",
       "    <tr>\n",
       "      <th>1690</th>\n",
       "      <td>YAK/S/02359</td>\n",
       "      <td>Customer Support and Field Operations</td>\n",
       "      <td>MSc, MBA and PhD</td>\n",
       "      <td>Female</td>\n",
       "      <td>Agency and others</td>\n",
       "      <td>3</td>\n",
       "      <td>1975</td>\n",
       "      <td>12.5</td>\n",
       "      <td>2014</td>\n",
       "      <td>1</td>\n",
       "      <td>0</td>\n",
       "      <td>49</td>\n",
       "      <td>ABIA</td>\n",
       "      <td>Yes</td>\n",
       "      <td>Single</td>\n",
       "      <td>No</td>\n",
       "      <td>No</td>\n",
       "      <td>1</td>\n",
       "      <td>0</td>\n",
       "    </tr>\n",
       "    <tr>\n",
       "      <th>33130</th>\n",
       "      <td>YAK/S/47268</td>\n",
       "      <td>Information and Strategy</td>\n",
       "      <td>Others</td>\n",
       "      <td>Male</td>\n",
       "      <td>Direct Internal process</td>\n",
       "      <td>2</td>\n",
       "      <td>1995</td>\n",
       "      <td>7.5</td>\n",
       "      <td>2017</td>\n",
       "      <td>1</td>\n",
       "      <td>0</td>\n",
       "      <td>80</td>\n",
       "      <td>BORNO</td>\n",
       "      <td>Yes</td>\n",
       "      <td>Married</td>\n",
       "      <td>No</td>\n",
       "      <td>No</td>\n",
       "      <td>0</td>\n",
       "      <td>0</td>\n",
       "    </tr>\n",
       "    <tr>\n",
       "      <th>27504</th>\n",
       "      <td>YAK/S/39249</td>\n",
       "      <td>People/HR Management</td>\n",
       "      <td>MSc, MBA and PhD</td>\n",
       "      <td>Male</td>\n",
       "      <td>Direct Internal process</td>\n",
       "      <td>2</td>\n",
       "      <td>1989</td>\n",
       "      <td>12.5</td>\n",
       "      <td>2012</td>\n",
       "      <td>1</td>\n",
       "      <td>0</td>\n",
       "      <td>40</td>\n",
       "      <td>SOKOTO</td>\n",
       "      <td>Yes</td>\n",
       "      <td>Married</td>\n",
       "      <td>No</td>\n",
       "      <td>No</td>\n",
       "      <td>4</td>\n",
       "      <td>1</td>\n",
       "    </tr>\n",
       "    <tr>\n",
       "      <th>30227</th>\n",
       "      <td>YAK/S/43163</td>\n",
       "      <td>Information and Strategy</td>\n",
       "      <td>First Degree or HND</td>\n",
       "      <td>Female</td>\n",
       "      <td>Agency and others</td>\n",
       "      <td>2</td>\n",
       "      <td>1994</td>\n",
       "      <td>7.5</td>\n",
       "      <td>2017</td>\n",
       "      <td>1</td>\n",
       "      <td>0</td>\n",
       "      <td>78</td>\n",
       "      <td>ENUGU</td>\n",
       "      <td>Yes</td>\n",
       "      <td>Married</td>\n",
       "      <td>No</td>\n",
       "      <td>No</td>\n",
       "      <td>0</td>\n",
       "      <td>1</td>\n",
       "    </tr>\n",
       "    <tr>\n",
       "      <th>5281</th>\n",
       "      <td>YAK/S/07453</td>\n",
       "      <td>Customer Support and Field Operations</td>\n",
       "      <td>First Degree or HND</td>\n",
       "      <td>Male</td>\n",
       "      <td>Agency and others</td>\n",
       "      <td>3</td>\n",
       "      <td>1977</td>\n",
       "      <td>10.0</td>\n",
       "      <td>2017</td>\n",
       "      <td>0</td>\n",
       "      <td>0</td>\n",
       "      <td>48</td>\n",
       "      <td>RIVERS</td>\n",
       "      <td>Yes</td>\n",
       "      <td>Married</td>\n",
       "      <td>No</td>\n",
       "      <td>No</td>\n",
       "      <td>1</td>\n",
       "      <td>0</td>\n",
       "    </tr>\n",
       "  </tbody>\n",
       "</table>\n",
       "</div>"
      ],
      "text/plain": [
       "        EmployeeNo                               Division  \\\n",
       "1690   YAK/S/02359  Customer Support and Field Operations   \n",
       "33130  YAK/S/47268               Information and Strategy   \n",
       "27504  YAK/S/39249                   People/HR Management   \n",
       "30227  YAK/S/43163               Information and Strategy   \n",
       "5281   YAK/S/07453  Customer Support and Field Operations   \n",
       "\n",
       "             Qualification  Gender   Channel_of_Recruitment  \\\n",
       "1690      MSc, MBA and PhD  Female        Agency and others   \n",
       "33130               Others    Male  Direct Internal process   \n",
       "27504     MSc, MBA and PhD    Male  Direct Internal process   \n",
       "30227  First Degree or HND  Female        Agency and others   \n",
       "5281   First Degree or HND    Male        Agency and others   \n",
       "\n",
       "       Trainings_Attended  Year_of_birth  Last_performance_score  \\\n",
       "1690                    3           1975                    12.5   \n",
       "33130                   2           1995                     7.5   \n",
       "27504                   2           1989                    12.5   \n",
       "30227                   2           1994                     7.5   \n",
       "5281                    3           1977                    10.0   \n",
       "\n",
       "       Year_of_recruitment  Targets_met  Previous_Award  \\\n",
       "1690                  2014            1               0   \n",
       "33130                 2017            1               0   \n",
       "27504                 2012            1               0   \n",
       "30227                 2017            1               0   \n",
       "5281                  2017            0               0   \n",
       "\n",
       "       Training_score_average State_Of_Origin Foreign_schooled Marital_Status  \\\n",
       "1690                       49            ABIA              Yes         Single   \n",
       "33130                      80           BORNO              Yes        Married   \n",
       "27504                      40          SOKOTO              Yes        Married   \n",
       "30227                      78           ENUGU              Yes        Married   \n",
       "5281                       48          RIVERS              Yes        Married   \n",
       "\n",
       "      Past_Disciplinary_Action Previous_IntraDepartmental_Movement  \\\n",
       "1690                        No                                  No   \n",
       "33130                       No                                  No   \n",
       "27504                       No                                  No   \n",
       "30227                       No                                  No   \n",
       "5281                        No                                  No   \n",
       "\n",
       "      No_of_previous_employers  Promoted_or_Not  \n",
       "1690                         1                0  \n",
       "33130                        0                0  \n",
       "27504                        4                1  \n",
       "30227                        0                1  \n",
       "5281                         1                0  "
      ]
     },
     "execution_count": 23,
     "metadata": {},
     "output_type": "execute_result"
    }
   ],
   "source": [
    "train_data.head()"
   ]
  },
  {
   "cell_type": "code",
   "execution_count": 24,
   "metadata": {},
   "outputs": [
    {
     "data": {
      "text/plain": [
       "EmployeeNo                              object\n",
       "Division                                object\n",
       "Qualification                           object\n",
       "Gender                                  object\n",
       "Channel_of_Recruitment                  object\n",
       "Trainings_Attended                       int64\n",
       "Year_of_birth                            int64\n",
       "Last_performance_score                 float64\n",
       "Year_of_recruitment                      int64\n",
       "Targets_met                              int64\n",
       "Previous_Award                           int64\n",
       "Training_score_average                   int64\n",
       "State_Of_Origin                         object\n",
       "Foreign_schooled                        object\n",
       "Marital_Status                          object\n",
       "Past_Disciplinary_Action                object\n",
       "Previous_IntraDepartmental_Movement     object\n",
       "No_of_previous_employers                object\n",
       "Promoted_or_Not                          int64\n",
       "dtype: object"
      ]
     },
     "execution_count": 24,
     "metadata": {},
     "output_type": "execute_result"
    }
   ],
   "source": [
    "train_data.dtypes"
   ]
  },
  {
   "cell_type": "markdown",
   "metadata": {},
   "source": [
    "#### Feature 1 - Division History"
   ]
  },
  {
   "cell_type": "code",
   "execution_count": 25,
   "metadata": {},
   "outputs": [],
   "source": [
    "div1 = train_data[train_data['Promoted_or_Not'] == 1].groupby('Division').agg({'Promoted_or_Not':'count'}).reset_index()\n",
    "div1.columns = ['Division','Promoted_Count']\n",
    "\n",
    "div2 = train_data.groupby('Division').agg({'Promoted_or_Not':'count'}).reset_index()\n",
    "div2.columns = ['Division','Total_Count']"
   ]
  },
  {
   "cell_type": "code",
   "execution_count": 26,
   "metadata": {},
   "outputs": [
    {
     "data": {
      "text/html": [
       "<div>\n",
       "<style scoped>\n",
       "    .dataframe tbody tr th:only-of-type {\n",
       "        vertical-align: middle;\n",
       "    }\n",
       "\n",
       "    .dataframe tbody tr th {\n",
       "        vertical-align: top;\n",
       "    }\n",
       "\n",
       "    .dataframe thead th {\n",
       "        text-align: right;\n",
       "    }\n",
       "</style>\n",
       "<table border=\"1\" class=\"dataframe\">\n",
       "  <thead>\n",
       "    <tr style=\"text-align: right;\">\n",
       "      <th></th>\n",
       "      <th>Division</th>\n",
       "      <th>Total_Count</th>\n",
       "      <th>Promoted_Count</th>\n",
       "    </tr>\n",
       "  </thead>\n",
       "  <tbody>\n",
       "    <tr>\n",
       "      <th>0</th>\n",
       "      <td>Business Finance Operations</td>\n",
       "      <td>1348</td>\n",
       "      <td>107</td>\n",
       "    </tr>\n",
       "    <tr>\n",
       "      <th>1</th>\n",
       "      <td>Commercial Sales and Marketing</td>\n",
       "      <td>8766</td>\n",
       "      <td>633</td>\n",
       "    </tr>\n",
       "    <tr>\n",
       "      <th>2</th>\n",
       "      <td>Customer Support and Field Operations</td>\n",
       "      <td>6018</td>\n",
       "      <td>525</td>\n",
       "    </tr>\n",
       "    <tr>\n",
       "      <th>3</th>\n",
       "      <td>Information Technology and Solution Support</td>\n",
       "      <td>3699</td>\n",
       "      <td>393</td>\n",
       "    </tr>\n",
       "    <tr>\n",
       "      <th>4</th>\n",
       "      <td>Information and Strategy</td>\n",
       "      <td>2783</td>\n",
       "      <td>262</td>\n",
       "    </tr>\n",
       "    <tr>\n",
       "      <th>5</th>\n",
       "      <td>People/HR Management</td>\n",
       "      <td>1267</td>\n",
       "      <td>76</td>\n",
       "    </tr>\n",
       "    <tr>\n",
       "      <th>6</th>\n",
       "      <td>Regulatory and Legal services</td>\n",
       "      <td>549</td>\n",
       "      <td>35</td>\n",
       "    </tr>\n",
       "    <tr>\n",
       "      <th>7</th>\n",
       "      <td>Research and Innovation</td>\n",
       "      <td>530</td>\n",
       "      <td>34</td>\n",
       "    </tr>\n",
       "    <tr>\n",
       "      <th>8</th>\n",
       "      <td>Sourcing and Purchasing</td>\n",
       "      <td>3774</td>\n",
       "      <td>361</td>\n",
       "    </tr>\n",
       "  </tbody>\n",
       "</table>\n",
       "</div>"
      ],
      "text/plain": [
       "                                      Division  Total_Count  Promoted_Count\n",
       "0                  Business Finance Operations         1348             107\n",
       "1               Commercial Sales and Marketing         8766             633\n",
       "2        Customer Support and Field Operations         6018             525\n",
       "3  Information Technology and Solution Support         3699             393\n",
       "4                     Information and Strategy         2783             262\n",
       "5                         People/HR Management         1267              76\n",
       "6                Regulatory and Legal services          549              35\n",
       "7                      Research and Innovation          530              34\n",
       "8                      Sourcing and Purchasing         3774             361"
      ]
     },
     "execution_count": 26,
     "metadata": {},
     "output_type": "execute_result"
    }
   ],
   "source": [
    "div2 = pd.merge(div2,div1,how='left',on='Division')\n",
    "div2"
   ]
  },
  {
   "cell_type": "code",
   "execution_count": 27,
   "metadata": {},
   "outputs": [],
   "source": [
    "div2['Promoted_Count'].fillna(1,inplace=True)\n",
    "div2['Division_History'] = div2['Promoted_Count']/div2['Total_Count']\n",
    "div2 = div2[['Division','Division_History']]"
   ]
  },
  {
   "cell_type": "code",
   "execution_count": 28,
   "metadata": {},
   "outputs": [
    {
     "data": {
      "text/html": [
       "<div>\n",
       "<style scoped>\n",
       "    .dataframe tbody tr th:only-of-type {\n",
       "        vertical-align: middle;\n",
       "    }\n",
       "\n",
       "    .dataframe tbody tr th {\n",
       "        vertical-align: top;\n",
       "    }\n",
       "\n",
       "    .dataframe thead th {\n",
       "        text-align: right;\n",
       "    }\n",
       "</style>\n",
       "<table border=\"1\" class=\"dataframe\">\n",
       "  <thead>\n",
       "    <tr style=\"text-align: right;\">\n",
       "      <th></th>\n",
       "      <th>Division</th>\n",
       "      <th>Division_History</th>\n",
       "    </tr>\n",
       "  </thead>\n",
       "  <tbody>\n",
       "    <tr>\n",
       "      <th>0</th>\n",
       "      <td>Business Finance Operations</td>\n",
       "      <td>0.079377</td>\n",
       "    </tr>\n",
       "    <tr>\n",
       "      <th>1</th>\n",
       "      <td>Commercial Sales and Marketing</td>\n",
       "      <td>0.072211</td>\n",
       "    </tr>\n",
       "    <tr>\n",
       "      <th>2</th>\n",
       "      <td>Customer Support and Field Operations</td>\n",
       "      <td>0.087238</td>\n",
       "    </tr>\n",
       "    <tr>\n",
       "      <th>3</th>\n",
       "      <td>Information Technology and Solution Support</td>\n",
       "      <td>0.106245</td>\n",
       "    </tr>\n",
       "    <tr>\n",
       "      <th>4</th>\n",
       "      <td>Information and Strategy</td>\n",
       "      <td>0.094143</td>\n",
       "    </tr>\n",
       "    <tr>\n",
       "      <th>5</th>\n",
       "      <td>People/HR Management</td>\n",
       "      <td>0.059984</td>\n",
       "    </tr>\n",
       "    <tr>\n",
       "      <th>6</th>\n",
       "      <td>Regulatory and Legal services</td>\n",
       "      <td>0.063752</td>\n",
       "    </tr>\n",
       "    <tr>\n",
       "      <th>7</th>\n",
       "      <td>Research and Innovation</td>\n",
       "      <td>0.064151</td>\n",
       "    </tr>\n",
       "    <tr>\n",
       "      <th>8</th>\n",
       "      <td>Sourcing and Purchasing</td>\n",
       "      <td>0.095654</td>\n",
       "    </tr>\n",
       "    <tr>\n",
       "      <th>0</th>\n",
       "      <td>OTHERS</td>\n",
       "      <td>0.080306</td>\n",
       "    </tr>\n",
       "  </tbody>\n",
       "</table>\n",
       "</div>"
      ],
      "text/plain": [
       "                                      Division  Division_History\n",
       "0                  Business Finance Operations          0.079377\n",
       "1               Commercial Sales and Marketing          0.072211\n",
       "2        Customer Support and Field Operations          0.087238\n",
       "3  Information Technology and Solution Support          0.106245\n",
       "4                     Information and Strategy          0.094143\n",
       "5                         People/HR Management          0.059984\n",
       "6                Regulatory and Legal services          0.063752\n",
       "7                      Research and Innovation          0.064151\n",
       "8                      Sourcing and Purchasing          0.095654\n",
       "0                                       OTHERS          0.080306"
      ]
     },
     "execution_count": 28,
     "metadata": {},
     "output_type": "execute_result"
    }
   ],
   "source": [
    "div2 = div2[['Division','Division_History']]\n",
    "mean = div2['Division_History'].mean()\n",
    "l1 = {'Division':['OTHERS'],'Division_History':[mean]}\n",
    "df = pd.DataFrame(l1)\n",
    "div2 = div2.append(df)\n",
    "div2"
   ]
  },
  {
   "cell_type": "code",
   "execution_count": 29,
   "metadata": {},
   "outputs": [
    {
     "data": {
      "text/plain": [
       "0"
      ]
     },
     "execution_count": 29,
     "metadata": {},
     "output_type": "execute_result"
    }
   ],
   "source": [
    "train_data = pd.merge(train_data,div2,how='left',on='Division')\n",
    "test_data = pd.merge(test_data,div2,how='left',on='Division')\n",
    "test = pd.merge(test,div2,how='left',on='Division')\n",
    "train_data['Division_History'].isnull().sum()"
   ]
  },
  {
   "cell_type": "code",
   "execution_count": 30,
   "metadata": {},
   "outputs": [
    {
     "data": {
      "text/plain": [
       "0.04791241394969054"
      ]
     },
     "execution_count": 30,
     "metadata": {},
     "output_type": "execute_result"
    }
   ],
   "source": [
    "train_data['Division_History'].corr(train_data['Promoted_or_Not'])"
   ]
  },
  {
   "cell_type": "markdown",
   "metadata": {},
   "source": [
    "#### Feature 2 -  Qualification History"
   ]
  },
  {
   "cell_type": "code",
   "execution_count": 31,
   "metadata": {},
   "outputs": [],
   "source": [
    "qual1 = train_data[train_data['Promoted_or_Not'] == 1].groupby('Qualification').agg({'Promoted_or_Not':'count'}).reset_index()\n",
    "qual1.columns = ['Qualification','Promoted_Count']\n",
    "\n",
    "qual2 = train_data.groupby('Qualification').agg({'Promoted_or_Not':'count'}).reset_index()\n",
    "qual2.columns = ['Qualification','Total_Count']"
   ]
  },
  {
   "cell_type": "code",
   "execution_count": 32,
   "metadata": {},
   "outputs": [
    {
     "data": {
      "text/html": [
       "<div>\n",
       "<style scoped>\n",
       "    .dataframe tbody tr th:only-of-type {\n",
       "        vertical-align: middle;\n",
       "    }\n",
       "\n",
       "    .dataframe tbody tr th {\n",
       "        vertical-align: top;\n",
       "    }\n",
       "\n",
       "    .dataframe thead th {\n",
       "        text-align: right;\n",
       "    }\n",
       "</style>\n",
       "<table border=\"1\" class=\"dataframe\">\n",
       "  <thead>\n",
       "    <tr style=\"text-align: right;\">\n",
       "      <th></th>\n",
       "      <th>Qualification</th>\n",
       "      <th>Total_Count</th>\n",
       "      <th>Promoted_Count</th>\n",
       "    </tr>\n",
       "  </thead>\n",
       "  <tbody>\n",
       "    <tr>\n",
       "      <th>0</th>\n",
       "      <td>First Degree or HND</td>\n",
       "      <td>19240</td>\n",
       "      <td>1577</td>\n",
       "    </tr>\n",
       "    <tr>\n",
       "      <th>1</th>\n",
       "      <td>MSc, MBA and PhD</td>\n",
       "      <td>7774</td>\n",
       "      <td>747</td>\n",
       "    </tr>\n",
       "    <tr>\n",
       "      <th>2</th>\n",
       "      <td>Non-University Education</td>\n",
       "      <td>450</td>\n",
       "      <td>40</td>\n",
       "    </tr>\n",
       "    <tr>\n",
       "      <th>3</th>\n",
       "      <td>Others</td>\n",
       "      <td>1270</td>\n",
       "      <td>62</td>\n",
       "    </tr>\n",
       "  </tbody>\n",
       "</table>\n",
       "</div>"
      ],
      "text/plain": [
       "              Qualification  Total_Count  Promoted_Count\n",
       "0       First Degree or HND        19240            1577\n",
       "1          MSc, MBA and PhD         7774             747\n",
       "2  Non-University Education          450              40\n",
       "3                    Others         1270              62"
      ]
     },
     "execution_count": 32,
     "metadata": {},
     "output_type": "execute_result"
    }
   ],
   "source": [
    "qual2 = pd.merge(qual2,qual1,how='left',on='Qualification')\n",
    "qual2"
   ]
  },
  {
   "cell_type": "code",
   "execution_count": 33,
   "metadata": {},
   "outputs": [],
   "source": [
    "qual2['Promoted_Count'].fillna(1,inplace=True)\n",
    "qual2['Qualification_History'] = qual2['Promoted_Count']/qual2['Total_Count']\n",
    "qual2 = qual2[['Qualification','Qualification_History']]"
   ]
  },
  {
   "cell_type": "code",
   "execution_count": 34,
   "metadata": {},
   "outputs": [
    {
     "data": {
      "text/html": [
       "<div>\n",
       "<style scoped>\n",
       "    .dataframe tbody tr th:only-of-type {\n",
       "        vertical-align: middle;\n",
       "    }\n",
       "\n",
       "    .dataframe tbody tr th {\n",
       "        vertical-align: top;\n",
       "    }\n",
       "\n",
       "    .dataframe thead th {\n",
       "        text-align: right;\n",
       "    }\n",
       "</style>\n",
       "<table border=\"1\" class=\"dataframe\">\n",
       "  <thead>\n",
       "    <tr style=\"text-align: right;\">\n",
       "      <th></th>\n",
       "      <th>Qualification</th>\n",
       "      <th>Qualification_History</th>\n",
       "    </tr>\n",
       "  </thead>\n",
       "  <tbody>\n",
       "    <tr>\n",
       "      <th>0</th>\n",
       "      <td>First Degree or HND</td>\n",
       "      <td>0.081965</td>\n",
       "    </tr>\n",
       "    <tr>\n",
       "      <th>1</th>\n",
       "      <td>MSc, MBA and PhD</td>\n",
       "      <td>0.096090</td>\n",
       "    </tr>\n",
       "    <tr>\n",
       "      <th>2</th>\n",
       "      <td>Non-University Education</td>\n",
       "      <td>0.088889</td>\n",
       "    </tr>\n",
       "    <tr>\n",
       "      <th>3</th>\n",
       "      <td>Others</td>\n",
       "      <td>0.048819</td>\n",
       "    </tr>\n",
       "    <tr>\n",
       "      <th>0</th>\n",
       "      <td>OTHERS</td>\n",
       "      <td>0.078940</td>\n",
       "    </tr>\n",
       "  </tbody>\n",
       "</table>\n",
       "</div>"
      ],
      "text/plain": [
       "              Qualification  Qualification_History\n",
       "0       First Degree or HND               0.081965\n",
       "1          MSc, MBA and PhD               0.096090\n",
       "2  Non-University Education               0.088889\n",
       "3                    Others               0.048819\n",
       "0                    OTHERS               0.078940"
      ]
     },
     "execution_count": 34,
     "metadata": {},
     "output_type": "execute_result"
    }
   ],
   "source": [
    "qual2 = qual2[['Qualification','Qualification_History']]\n",
    "mean = qual2['Qualification_History'].mean()\n",
    "l1 = {'Qualification':['OTHERS'],'Qualification_History':[mean]}\n",
    "df = pd.DataFrame(l1)\n",
    "qual2 = qual2.append(df)\n",
    "qual2"
   ]
  },
  {
   "cell_type": "code",
   "execution_count": 35,
   "metadata": {},
   "outputs": [
    {
     "data": {
      "text/plain": [
       "0"
      ]
     },
     "execution_count": 35,
     "metadata": {},
     "output_type": "execute_result"
    }
   ],
   "source": [
    "train_data = pd.merge(train_data,qual2,how='left',on='Qualification')\n",
    "test_data = pd.merge(test_data,qual2,how='left',on='Qualification')\n",
    "test = pd.merge(test,qual2,how='left',on='Qualification')\n",
    "train_data['Qualification_History'].isnull().sum()"
   ]
  },
  {
   "cell_type": "code",
   "execution_count": 36,
   "metadata": {},
   "outputs": [
    {
     "data": {
      "text/plain": [
       "0.035462164175221744"
      ]
     },
     "execution_count": 36,
     "metadata": {},
     "output_type": "execute_result"
    }
   ],
   "source": [
    "train_data['Qualification_History'].corr(train_data['Promoted_or_Not'])"
   ]
  },
  {
   "cell_type": "markdown",
   "metadata": {},
   "source": [
    "#### Feature 3 - Channel of Recruitment History"
   ]
  },
  {
   "cell_type": "code",
   "execution_count": 37,
   "metadata": {},
   "outputs": [],
   "source": [
    "cr1 = train_data[train_data['Promoted_or_Not'] == 1].groupby('Channel_of_Recruitment').agg({'Promoted_or_Not':'count'}).reset_index()\n",
    "cr1.columns = ['Channel_of_Recruitment','Promoted_Count']\n",
    "\n",
    "cr2 = train_data.groupby('Channel_of_Recruitment').agg({'Promoted_or_Not':'count'}).reset_index()\n",
    "cr2.columns = ['Channel_of_Recruitment','Total_Count']"
   ]
  },
  {
   "cell_type": "code",
   "execution_count": 38,
   "metadata": {},
   "outputs": [
    {
     "data": {
      "text/html": [
       "<div>\n",
       "<style scoped>\n",
       "    .dataframe tbody tr th:only-of-type {\n",
       "        vertical-align: middle;\n",
       "    }\n",
       "\n",
       "    .dataframe tbody tr th {\n",
       "        vertical-align: top;\n",
       "    }\n",
       "\n",
       "    .dataframe thead th {\n",
       "        text-align: right;\n",
       "    }\n",
       "</style>\n",
       "<table border=\"1\" class=\"dataframe\">\n",
       "  <thead>\n",
       "    <tr style=\"text-align: right;\">\n",
       "      <th></th>\n",
       "      <th>Channel_of_Recruitment</th>\n",
       "      <th>Total_Count</th>\n",
       "      <th>Promoted_Count</th>\n",
       "    </tr>\n",
       "  </thead>\n",
       "  <tbody>\n",
       "    <tr>\n",
       "      <th>0</th>\n",
       "      <td>Agency and others</td>\n",
       "      <td>15911</td>\n",
       "      <td>1341</td>\n",
       "    </tr>\n",
       "    <tr>\n",
       "      <th>1</th>\n",
       "      <td>Direct Internal process</td>\n",
       "      <td>12176</td>\n",
       "      <td>1013</td>\n",
       "    </tr>\n",
       "    <tr>\n",
       "      <th>2</th>\n",
       "      <td>Referral and Special candidates</td>\n",
       "      <td>647</td>\n",
       "      <td>72</td>\n",
       "    </tr>\n",
       "  </tbody>\n",
       "</table>\n",
       "</div>"
      ],
      "text/plain": [
       "            Channel_of_Recruitment  Total_Count  Promoted_Count\n",
       "0                Agency and others        15911            1341\n",
       "1          Direct Internal process        12176            1013\n",
       "2  Referral and Special candidates          647              72"
      ]
     },
     "execution_count": 38,
     "metadata": {},
     "output_type": "execute_result"
    }
   ],
   "source": [
    "cr2 = pd.merge(cr2,cr1,how='left',on='Channel_of_Recruitment')\n",
    "cr2"
   ]
  },
  {
   "cell_type": "code",
   "execution_count": 39,
   "metadata": {},
   "outputs": [],
   "source": [
    "cr2['Promoted_Count'].fillna(1,inplace=True)\n",
    "cr2['Recruitment_History'] = cr2['Promoted_Count']/cr2['Total_Count']\n",
    "cr2 = cr2[['Channel_of_Recruitment','Recruitment_History']]"
   ]
  },
  {
   "cell_type": "code",
   "execution_count": 40,
   "metadata": {},
   "outputs": [
    {
     "data": {
      "text/html": [
       "<div>\n",
       "<style scoped>\n",
       "    .dataframe tbody tr th:only-of-type {\n",
       "        vertical-align: middle;\n",
       "    }\n",
       "\n",
       "    .dataframe tbody tr th {\n",
       "        vertical-align: top;\n",
       "    }\n",
       "\n",
       "    .dataframe thead th {\n",
       "        text-align: right;\n",
       "    }\n",
       "</style>\n",
       "<table border=\"1\" class=\"dataframe\">\n",
       "  <thead>\n",
       "    <tr style=\"text-align: right;\">\n",
       "      <th></th>\n",
       "      <th>Channel_of_Recruitment</th>\n",
       "      <th>Recruitment_History</th>\n",
       "    </tr>\n",
       "  </thead>\n",
       "  <tbody>\n",
       "    <tr>\n",
       "      <th>0</th>\n",
       "      <td>Agency and others</td>\n",
       "      <td>0.084281</td>\n",
       "    </tr>\n",
       "    <tr>\n",
       "      <th>1</th>\n",
       "      <td>Direct Internal process</td>\n",
       "      <td>0.083196</td>\n",
       "    </tr>\n",
       "    <tr>\n",
       "      <th>2</th>\n",
       "      <td>Referral and Special candidates</td>\n",
       "      <td>0.111283</td>\n",
       "    </tr>\n",
       "    <tr>\n",
       "      <th>0</th>\n",
       "      <td>OTHERS</td>\n",
       "      <td>0.092920</td>\n",
       "    </tr>\n",
       "  </tbody>\n",
       "</table>\n",
       "</div>"
      ],
      "text/plain": [
       "            Channel_of_Recruitment  Recruitment_History\n",
       "0                Agency and others             0.084281\n",
       "1          Direct Internal process             0.083196\n",
       "2  Referral and Special candidates             0.111283\n",
       "0                           OTHERS             0.092920"
      ]
     },
     "execution_count": 40,
     "metadata": {},
     "output_type": "execute_result"
    }
   ],
   "source": [
    "cr2 = cr2[['Channel_of_Recruitment','Recruitment_History']]\n",
    "mean = cr2['Recruitment_History'].mean()\n",
    "l1 = {'Channel_of_Recruitment':['OTHERS'],'Recruitment_History':[mean]}\n",
    "df = pd.DataFrame(l1)\n",
    "cr2 = cr2.append(df)\n",
    "cr2"
   ]
  },
  {
   "cell_type": "code",
   "execution_count": 41,
   "metadata": {},
   "outputs": [
    {
     "data": {
      "text/plain": [
       "0"
      ]
     },
     "execution_count": 41,
     "metadata": {},
     "output_type": "execute_result"
    }
   ],
   "source": [
    "train_data = pd.merge(train_data,cr2,how='left',on='Channel_of_Recruitment')\n",
    "test_data = pd.merge(test_data,cr2,how='left',on='Channel_of_Recruitment')\n",
    "test = pd.merge(test,cr2,how='left',on='Channel_of_Recruitment')\n",
    "train_data['Recruitment_History'].isnull().sum()"
   ]
  },
  {
   "cell_type": "code",
   "execution_count": 42,
   "metadata": {},
   "outputs": [
    {
     "data": {
      "text/plain": [
       "0.014783092187155037"
      ]
     },
     "execution_count": 42,
     "metadata": {},
     "output_type": "execute_result"
    }
   ],
   "source": [
    "train_data['Recruitment_History'].corr(train_data['Promoted_or_Not'])"
   ]
  },
  {
   "cell_type": "markdown",
   "metadata": {},
   "source": [
    "#### Feature 4 - Gender History"
   ]
  },
  {
   "cell_type": "code",
   "execution_count": 43,
   "metadata": {},
   "outputs": [],
   "source": [
    "gen1 = train_data[train_data['Promoted_or_Not'] == 1].groupby('Gender').agg({'Promoted_or_Not':'count'}).reset_index()\n",
    "gen1.columns = ['Gender','Promoted_Count']\n",
    "\n",
    "gen2 = train_data.groupby('Gender').agg({'Promoted_or_Not':'count'}).reset_index()\n",
    "gen2.columns = ['Gender','Total_Count']"
   ]
  },
  {
   "cell_type": "code",
   "execution_count": 44,
   "metadata": {},
   "outputs": [
    {
     "data": {
      "text/html": [
       "<div>\n",
       "<style scoped>\n",
       "    .dataframe tbody tr th:only-of-type {\n",
       "        vertical-align: middle;\n",
       "    }\n",
       "\n",
       "    .dataframe tbody tr th {\n",
       "        vertical-align: top;\n",
       "    }\n",
       "\n",
       "    .dataframe thead th {\n",
       "        text-align: right;\n",
       "    }\n",
       "</style>\n",
       "<table border=\"1\" class=\"dataframe\">\n",
       "  <thead>\n",
       "    <tr style=\"text-align: right;\">\n",
       "      <th></th>\n",
       "      <th>Gender</th>\n",
       "      <th>Total_Count</th>\n",
       "      <th>Promoted_Count</th>\n",
       "    </tr>\n",
       "  </thead>\n",
       "  <tbody>\n",
       "    <tr>\n",
       "      <th>0</th>\n",
       "      <td>Female</td>\n",
       "      <td>8614</td>\n",
       "      <td>761</td>\n",
       "    </tr>\n",
       "    <tr>\n",
       "      <th>1</th>\n",
       "      <td>Male</td>\n",
       "      <td>20120</td>\n",
       "      <td>1665</td>\n",
       "    </tr>\n",
       "  </tbody>\n",
       "</table>\n",
       "</div>"
      ],
      "text/plain": [
       "   Gender  Total_Count  Promoted_Count\n",
       "0  Female         8614             761\n",
       "1    Male        20120            1665"
      ]
     },
     "execution_count": 44,
     "metadata": {},
     "output_type": "execute_result"
    }
   ],
   "source": [
    "gen2 = pd.merge(gen2,gen1,how='left',on='Gender')\n",
    "gen2"
   ]
  },
  {
   "cell_type": "code",
   "execution_count": 45,
   "metadata": {},
   "outputs": [],
   "source": [
    "gen2['Promoted_Count'].fillna(1,inplace=True)\n",
    "gen2['Gender_History'] = gen2['Promoted_Count']/gen2['Total_Count']\n",
    "gen2 = gen2[['Gender','Gender_History']]"
   ]
  },
  {
   "cell_type": "code",
   "execution_count": 46,
   "metadata": {},
   "outputs": [
    {
     "data": {
      "text/html": [
       "<div>\n",
       "<style scoped>\n",
       "    .dataframe tbody tr th:only-of-type {\n",
       "        vertical-align: middle;\n",
       "    }\n",
       "\n",
       "    .dataframe tbody tr th {\n",
       "        vertical-align: top;\n",
       "    }\n",
       "\n",
       "    .dataframe thead th {\n",
       "        text-align: right;\n",
       "    }\n",
       "</style>\n",
       "<table border=\"1\" class=\"dataframe\">\n",
       "  <thead>\n",
       "    <tr style=\"text-align: right;\">\n",
       "      <th></th>\n",
       "      <th>Gender</th>\n",
       "      <th>Gender_History</th>\n",
       "    </tr>\n",
       "  </thead>\n",
       "  <tbody>\n",
       "    <tr>\n",
       "      <th>0</th>\n",
       "      <td>Female</td>\n",
       "      <td>0.088345</td>\n",
       "    </tr>\n",
       "    <tr>\n",
       "      <th>1</th>\n",
       "      <td>Male</td>\n",
       "      <td>0.082753</td>\n",
       "    </tr>\n",
       "    <tr>\n",
       "      <th>0</th>\n",
       "      <td>OTHERS</td>\n",
       "      <td>0.085549</td>\n",
       "    </tr>\n",
       "  </tbody>\n",
       "</table>\n",
       "</div>"
      ],
      "text/plain": [
       "   Gender  Gender_History\n",
       "0  Female        0.088345\n",
       "1    Male        0.082753\n",
       "0  OTHERS        0.085549"
      ]
     },
     "execution_count": 46,
     "metadata": {},
     "output_type": "execute_result"
    }
   ],
   "source": [
    "gen2 = gen2[['Gender','Gender_History']]\n",
    "mean = gen2['Gender_History'].mean()\n",
    "l1 = {'Gender':['OTHERS'],'Gender_History':[mean]}\n",
    "df = pd.DataFrame(l1)\n",
    "gen2 = gen2.append(df)\n",
    "gen2"
   ]
  },
  {
   "cell_type": "code",
   "execution_count": 47,
   "metadata": {},
   "outputs": [
    {
     "data": {
      "text/plain": [
       "0"
      ]
     },
     "execution_count": 47,
     "metadata": {},
     "output_type": "execute_result"
    }
   ],
   "source": [
    "train_data = pd.merge(train_data,gen2,how='left',on='Gender')\n",
    "test_data = pd.merge(test_data,gen2,how='left',on='Gender')\n",
    "test = pd.merge(test,gen2,how='left',on='Gender')\n",
    "train_data['Gender_History'].isnull().sum()"
   ]
  },
  {
   "cell_type": "code",
   "execution_count": 48,
   "metadata": {},
   "outputs": [
    {
     "data": {
      "text/plain": [
       "0.009213455066330459"
      ]
     },
     "execution_count": 48,
     "metadata": {},
     "output_type": "execute_result"
    }
   ],
   "source": [
    "train_data['Gender_History'].corr(train_data['Promoted_or_Not'])"
   ]
  },
  {
   "cell_type": "markdown",
   "metadata": {},
   "source": [
    "#### Feature 5 - State of Origin History"
   ]
  },
  {
   "cell_type": "code",
   "execution_count": 49,
   "metadata": {},
   "outputs": [],
   "source": [
    "tr1 = train_data[train_data['Promoted_or_Not'] == 1].groupby('State_Of_Origin').agg({'Promoted_or_Not':'count'}).reset_index()\n",
    "tr1.columns = ['State_Of_Origin','Promoted_Count']\n",
    "\n",
    "tr2 = train_data.groupby('State_Of_Origin').agg({'Promoted_or_Not':'count'}).reset_index()\n",
    "tr2.columns = ['State_Of_Origin','Total_Count']"
   ]
  },
  {
   "cell_type": "code",
   "execution_count": 50,
   "metadata": {},
   "outputs": [
    {
     "data": {
      "text/html": [
       "<div>\n",
       "<style scoped>\n",
       "    .dataframe tbody tr th:only-of-type {\n",
       "        vertical-align: middle;\n",
       "    }\n",
       "\n",
       "    .dataframe tbody tr th {\n",
       "        vertical-align: top;\n",
       "    }\n",
       "\n",
       "    .dataframe thead th {\n",
       "        text-align: right;\n",
       "    }\n",
       "</style>\n",
       "<table border=\"1\" class=\"dataframe\">\n",
       "  <thead>\n",
       "    <tr style=\"text-align: right;\">\n",
       "      <th></th>\n",
       "      <th>State_Of_Origin</th>\n",
       "      <th>Total_Count</th>\n",
       "      <th>Promoted_Count</th>\n",
       "    </tr>\n",
       "  </thead>\n",
       "  <tbody>\n",
       "    <tr>\n",
       "      <th>0</th>\n",
       "      <td>ABIA</td>\n",
       "      <td>723</td>\n",
       "      <td>53</td>\n",
       "    </tr>\n",
       "    <tr>\n",
       "      <th>1</th>\n",
       "      <td>ADAMAWA</td>\n",
       "      <td>464</td>\n",
       "      <td>34</td>\n",
       "    </tr>\n",
       "    <tr>\n",
       "      <th>2</th>\n",
       "      <td>AKWA IBOM</td>\n",
       "      <td>496</td>\n",
       "      <td>45</td>\n",
       "    </tr>\n",
       "    <tr>\n",
       "      <th>3</th>\n",
       "      <td>ANAMBRA</td>\n",
       "      <td>1290</td>\n",
       "      <td>130</td>\n",
       "    </tr>\n",
       "    <tr>\n",
       "      <th>4</th>\n",
       "      <td>BAUCHI</td>\n",
       "      <td>412</td>\n",
       "      <td>32</td>\n",
       "    </tr>\n",
       "    <tr>\n",
       "      <th>5</th>\n",
       "      <td>BAYELSA</td>\n",
       "      <td>255</td>\n",
       "      <td>19</td>\n",
       "    </tr>\n",
       "    <tr>\n",
       "      <th>6</th>\n",
       "      <td>BENUE</td>\n",
       "      <td>437</td>\n",
       "      <td>35</td>\n",
       "    </tr>\n",
       "    <tr>\n",
       "      <th>7</th>\n",
       "      <td>BORNO</td>\n",
       "      <td>343</td>\n",
       "      <td>27</td>\n",
       "    </tr>\n",
       "    <tr>\n",
       "      <th>8</th>\n",
       "      <td>CROSS RIVER</td>\n",
       "      <td>378</td>\n",
       "      <td>33</td>\n",
       "    </tr>\n",
       "    <tr>\n",
       "      <th>9</th>\n",
       "      <td>DELTA</td>\n",
       "      <td>1204</td>\n",
       "      <td>108</td>\n",
       "    </tr>\n",
       "    <tr>\n",
       "      <th>10</th>\n",
       "      <td>EBONYI</td>\n",
       "      <td>234</td>\n",
       "      <td>17</td>\n",
       "    </tr>\n",
       "    <tr>\n",
       "      <th>11</th>\n",
       "      <td>EDO</td>\n",
       "      <td>936</td>\n",
       "      <td>77</td>\n",
       "    </tr>\n",
       "    <tr>\n",
       "      <th>12</th>\n",
       "      <td>EKITI</td>\n",
       "      <td>336</td>\n",
       "      <td>30</td>\n",
       "    </tr>\n",
       "    <tr>\n",
       "      <th>13</th>\n",
       "      <td>ENUGU</td>\n",
       "      <td>768</td>\n",
       "      <td>68</td>\n",
       "    </tr>\n",
       "    <tr>\n",
       "      <th>14</th>\n",
       "      <td>FCT</td>\n",
       "      <td>1822</td>\n",
       "      <td>140</td>\n",
       "    </tr>\n",
       "    <tr>\n",
       "      <th>15</th>\n",
       "      <td>GOMBE</td>\n",
       "      <td>216</td>\n",
       "      <td>26</td>\n",
       "    </tr>\n",
       "    <tr>\n",
       "      <th>16</th>\n",
       "      <td>IMO</td>\n",
       "      <td>970</td>\n",
       "      <td>86</td>\n",
       "    </tr>\n",
       "    <tr>\n",
       "      <th>17</th>\n",
       "      <td>JIGAWA</td>\n",
       "      <td>215</td>\n",
       "      <td>17</td>\n",
       "    </tr>\n",
       "    <tr>\n",
       "      <th>18</th>\n",
       "      <td>KADUNA</td>\n",
       "      <td>1035</td>\n",
       "      <td>90</td>\n",
       "    </tr>\n",
       "    <tr>\n",
       "      <th>19</th>\n",
       "      <td>KANO</td>\n",
       "      <td>1236</td>\n",
       "      <td>113</td>\n",
       "    </tr>\n",
       "    <tr>\n",
       "      <th>20</th>\n",
       "      <td>KATSINA</td>\n",
       "      <td>438</td>\n",
       "      <td>31</td>\n",
       "    </tr>\n",
       "    <tr>\n",
       "      <th>21</th>\n",
       "      <td>KEBBI</td>\n",
       "      <td>281</td>\n",
       "      <td>28</td>\n",
       "    </tr>\n",
       "    <tr>\n",
       "      <th>22</th>\n",
       "      <td>KOGI</td>\n",
       "      <td>401</td>\n",
       "      <td>33</td>\n",
       "    </tr>\n",
       "    <tr>\n",
       "      <th>23</th>\n",
       "      <td>KWARA</td>\n",
       "      <td>568</td>\n",
       "      <td>39</td>\n",
       "    </tr>\n",
       "    <tr>\n",
       "      <th>24</th>\n",
       "      <td>LAGOS</td>\n",
       "      <td>4680</td>\n",
       "      <td>405</td>\n",
       "    </tr>\n",
       "    <tr>\n",
       "      <th>25</th>\n",
       "      <td>NASSARAWA</td>\n",
       "      <td>488</td>\n",
       "      <td>43</td>\n",
       "    </tr>\n",
       "    <tr>\n",
       "      <th>26</th>\n",
       "      <td>NIGER</td>\n",
       "      <td>636</td>\n",
       "      <td>42</td>\n",
       "    </tr>\n",
       "    <tr>\n",
       "      <th>27</th>\n",
       "      <td>OGUN</td>\n",
       "      <td>1688</td>\n",
       "      <td>118</td>\n",
       "    </tr>\n",
       "    <tr>\n",
       "      <th>28</th>\n",
       "      <td>ONDO</td>\n",
       "      <td>658</td>\n",
       "      <td>69</td>\n",
       "    </tr>\n",
       "    <tr>\n",
       "      <th>29</th>\n",
       "      <td>OSUN</td>\n",
       "      <td>698</td>\n",
       "      <td>68</td>\n",
       "    </tr>\n",
       "    <tr>\n",
       "      <th>30</th>\n",
       "      <td>OYO</td>\n",
       "      <td>1124</td>\n",
       "      <td>99</td>\n",
       "    </tr>\n",
       "    <tr>\n",
       "      <th>31</th>\n",
       "      <td>PLATEAU</td>\n",
       "      <td>551</td>\n",
       "      <td>42</td>\n",
       "    </tr>\n",
       "    <tr>\n",
       "      <th>32</th>\n",
       "      <td>RIVERS</td>\n",
       "      <td>1681</td>\n",
       "      <td>143</td>\n",
       "    </tr>\n",
       "    <tr>\n",
       "      <th>33</th>\n",
       "      <td>SOKOTO</td>\n",
       "      <td>347</td>\n",
       "      <td>28</td>\n",
       "    </tr>\n",
       "    <tr>\n",
       "      <th>34</th>\n",
       "      <td>TARABA</td>\n",
       "      <td>310</td>\n",
       "      <td>26</td>\n",
       "    </tr>\n",
       "    <tr>\n",
       "      <th>35</th>\n",
       "      <td>YOBE</td>\n",
       "      <td>194</td>\n",
       "      <td>15</td>\n",
       "    </tr>\n",
       "    <tr>\n",
       "      <th>36</th>\n",
       "      <td>ZAMFARA</td>\n",
       "      <td>221</td>\n",
       "      <td>17</td>\n",
       "    </tr>\n",
       "  </tbody>\n",
       "</table>\n",
       "</div>"
      ],
      "text/plain": [
       "   State_Of_Origin  Total_Count  Promoted_Count\n",
       "0             ABIA          723              53\n",
       "1          ADAMAWA          464              34\n",
       "2        AKWA IBOM          496              45\n",
       "3          ANAMBRA         1290             130\n",
       "4           BAUCHI          412              32\n",
       "5          BAYELSA          255              19\n",
       "6            BENUE          437              35\n",
       "7            BORNO          343              27\n",
       "8      CROSS RIVER          378              33\n",
       "9            DELTA         1204             108\n",
       "10          EBONYI          234              17\n",
       "11             EDO          936              77\n",
       "12           EKITI          336              30\n",
       "13           ENUGU          768              68\n",
       "14             FCT         1822             140\n",
       "15           GOMBE          216              26\n",
       "16             IMO          970              86\n",
       "17          JIGAWA          215              17\n",
       "18          KADUNA         1035              90\n",
       "19            KANO         1236             113\n",
       "20         KATSINA          438              31\n",
       "21           KEBBI          281              28\n",
       "22            KOGI          401              33\n",
       "23           KWARA          568              39\n",
       "24           LAGOS         4680             405\n",
       "25       NASSARAWA          488              43\n",
       "26           NIGER          636              42\n",
       "27            OGUN         1688             118\n",
       "28            ONDO          658              69\n",
       "29            OSUN          698              68\n",
       "30             OYO         1124              99\n",
       "31         PLATEAU          551              42\n",
       "32          RIVERS         1681             143\n",
       "33          SOKOTO          347              28\n",
       "34          TARABA          310              26\n",
       "35            YOBE          194              15\n",
       "36         ZAMFARA          221              17"
      ]
     },
     "execution_count": 50,
     "metadata": {},
     "output_type": "execute_result"
    }
   ],
   "source": [
    "tr2 = pd.merge(tr2,tr1,how='left',on='State_Of_Origin')\n",
    "tr2"
   ]
  },
  {
   "cell_type": "code",
   "execution_count": 51,
   "metadata": {},
   "outputs": [],
   "source": [
    "tr2['Promoted_Count'].fillna(1,inplace=True)\n",
    "tr2['State_Of_Origin_History'] = tr2['Promoted_Count']/tr2['Total_Count']\n",
    "tr2 = tr2[['State_Of_Origin','State_Of_Origin_History']]"
   ]
  },
  {
   "cell_type": "code",
   "execution_count": 52,
   "metadata": {},
   "outputs": [
    {
     "data": {
      "text/html": [
       "<div>\n",
       "<style scoped>\n",
       "    .dataframe tbody tr th:only-of-type {\n",
       "        vertical-align: middle;\n",
       "    }\n",
       "\n",
       "    .dataframe tbody tr th {\n",
       "        vertical-align: top;\n",
       "    }\n",
       "\n",
       "    .dataframe thead th {\n",
       "        text-align: right;\n",
       "    }\n",
       "</style>\n",
       "<table border=\"1\" class=\"dataframe\">\n",
       "  <thead>\n",
       "    <tr style=\"text-align: right;\">\n",
       "      <th></th>\n",
       "      <th>State_Of_Origin</th>\n",
       "      <th>State_Of_Origin_History</th>\n",
       "    </tr>\n",
       "  </thead>\n",
       "  <tbody>\n",
       "    <tr>\n",
       "      <th>0</th>\n",
       "      <td>ABIA</td>\n",
       "      <td>0.073306</td>\n",
       "    </tr>\n",
       "    <tr>\n",
       "      <th>1</th>\n",
       "      <td>ADAMAWA</td>\n",
       "      <td>0.073276</td>\n",
       "    </tr>\n",
       "    <tr>\n",
       "      <th>2</th>\n",
       "      <td>AKWA IBOM</td>\n",
       "      <td>0.090726</td>\n",
       "    </tr>\n",
       "    <tr>\n",
       "      <th>3</th>\n",
       "      <td>ANAMBRA</td>\n",
       "      <td>0.100775</td>\n",
       "    </tr>\n",
       "    <tr>\n",
       "      <th>4</th>\n",
       "      <td>BAUCHI</td>\n",
       "      <td>0.077670</td>\n",
       "    </tr>\n",
       "    <tr>\n",
       "      <th>5</th>\n",
       "      <td>BAYELSA</td>\n",
       "      <td>0.074510</td>\n",
       "    </tr>\n",
       "    <tr>\n",
       "      <th>6</th>\n",
       "      <td>BENUE</td>\n",
       "      <td>0.080092</td>\n",
       "    </tr>\n",
       "    <tr>\n",
       "      <th>7</th>\n",
       "      <td>BORNO</td>\n",
       "      <td>0.078717</td>\n",
       "    </tr>\n",
       "    <tr>\n",
       "      <th>8</th>\n",
       "      <td>CROSS RIVER</td>\n",
       "      <td>0.087302</td>\n",
       "    </tr>\n",
       "    <tr>\n",
       "      <th>9</th>\n",
       "      <td>DELTA</td>\n",
       "      <td>0.089701</td>\n",
       "    </tr>\n",
       "    <tr>\n",
       "      <th>10</th>\n",
       "      <td>EBONYI</td>\n",
       "      <td>0.072650</td>\n",
       "    </tr>\n",
       "    <tr>\n",
       "      <th>11</th>\n",
       "      <td>EDO</td>\n",
       "      <td>0.082265</td>\n",
       "    </tr>\n",
       "    <tr>\n",
       "      <th>12</th>\n",
       "      <td>EKITI</td>\n",
       "      <td>0.089286</td>\n",
       "    </tr>\n",
       "    <tr>\n",
       "      <th>13</th>\n",
       "      <td>ENUGU</td>\n",
       "      <td>0.088542</td>\n",
       "    </tr>\n",
       "    <tr>\n",
       "      <th>14</th>\n",
       "      <td>FCT</td>\n",
       "      <td>0.076839</td>\n",
       "    </tr>\n",
       "    <tr>\n",
       "      <th>15</th>\n",
       "      <td>GOMBE</td>\n",
       "      <td>0.120370</td>\n",
       "    </tr>\n",
       "    <tr>\n",
       "      <th>16</th>\n",
       "      <td>IMO</td>\n",
       "      <td>0.088660</td>\n",
       "    </tr>\n",
       "    <tr>\n",
       "      <th>17</th>\n",
       "      <td>JIGAWA</td>\n",
       "      <td>0.079070</td>\n",
       "    </tr>\n",
       "    <tr>\n",
       "      <th>18</th>\n",
       "      <td>KADUNA</td>\n",
       "      <td>0.086957</td>\n",
       "    </tr>\n",
       "    <tr>\n",
       "      <th>19</th>\n",
       "      <td>KANO</td>\n",
       "      <td>0.091424</td>\n",
       "    </tr>\n",
       "    <tr>\n",
       "      <th>20</th>\n",
       "      <td>KATSINA</td>\n",
       "      <td>0.070776</td>\n",
       "    </tr>\n",
       "    <tr>\n",
       "      <th>21</th>\n",
       "      <td>KEBBI</td>\n",
       "      <td>0.099644</td>\n",
       "    </tr>\n",
       "    <tr>\n",
       "      <th>22</th>\n",
       "      <td>KOGI</td>\n",
       "      <td>0.082294</td>\n",
       "    </tr>\n",
       "    <tr>\n",
       "      <th>23</th>\n",
       "      <td>KWARA</td>\n",
       "      <td>0.068662</td>\n",
       "    </tr>\n",
       "    <tr>\n",
       "      <th>24</th>\n",
       "      <td>LAGOS</td>\n",
       "      <td>0.086538</td>\n",
       "    </tr>\n",
       "    <tr>\n",
       "      <th>25</th>\n",
       "      <td>NASSARAWA</td>\n",
       "      <td>0.088115</td>\n",
       "    </tr>\n",
       "    <tr>\n",
       "      <th>26</th>\n",
       "      <td>NIGER</td>\n",
       "      <td>0.066038</td>\n",
       "    </tr>\n",
       "    <tr>\n",
       "      <th>27</th>\n",
       "      <td>OGUN</td>\n",
       "      <td>0.069905</td>\n",
       "    </tr>\n",
       "    <tr>\n",
       "      <th>28</th>\n",
       "      <td>ONDO</td>\n",
       "      <td>0.104863</td>\n",
       "    </tr>\n",
       "    <tr>\n",
       "      <th>29</th>\n",
       "      <td>OSUN</td>\n",
       "      <td>0.097421</td>\n",
       "    </tr>\n",
       "    <tr>\n",
       "      <th>30</th>\n",
       "      <td>OYO</td>\n",
       "      <td>0.088078</td>\n",
       "    </tr>\n",
       "    <tr>\n",
       "      <th>31</th>\n",
       "      <td>PLATEAU</td>\n",
       "      <td>0.076225</td>\n",
       "    </tr>\n",
       "    <tr>\n",
       "      <th>32</th>\n",
       "      <td>RIVERS</td>\n",
       "      <td>0.085068</td>\n",
       "    </tr>\n",
       "    <tr>\n",
       "      <th>33</th>\n",
       "      <td>SOKOTO</td>\n",
       "      <td>0.080692</td>\n",
       "    </tr>\n",
       "    <tr>\n",
       "      <th>34</th>\n",
       "      <td>TARABA</td>\n",
       "      <td>0.083871</td>\n",
       "    </tr>\n",
       "    <tr>\n",
       "      <th>35</th>\n",
       "      <td>YOBE</td>\n",
       "      <td>0.077320</td>\n",
       "    </tr>\n",
       "    <tr>\n",
       "      <th>36</th>\n",
       "      <td>ZAMFARA</td>\n",
       "      <td>0.076923</td>\n",
       "    </tr>\n",
       "    <tr>\n",
       "      <th>0</th>\n",
       "      <td>OTHERS</td>\n",
       "      <td>0.083907</td>\n",
       "    </tr>\n",
       "  </tbody>\n",
       "</table>\n",
       "</div>"
      ],
      "text/plain": [
       "   State_Of_Origin  State_Of_Origin_History\n",
       "0             ABIA                 0.073306\n",
       "1          ADAMAWA                 0.073276\n",
       "2        AKWA IBOM                 0.090726\n",
       "3          ANAMBRA                 0.100775\n",
       "4           BAUCHI                 0.077670\n",
       "5          BAYELSA                 0.074510\n",
       "6            BENUE                 0.080092\n",
       "7            BORNO                 0.078717\n",
       "8      CROSS RIVER                 0.087302\n",
       "9            DELTA                 0.089701\n",
       "10          EBONYI                 0.072650\n",
       "11             EDO                 0.082265\n",
       "12           EKITI                 0.089286\n",
       "13           ENUGU                 0.088542\n",
       "14             FCT                 0.076839\n",
       "15           GOMBE                 0.120370\n",
       "16             IMO                 0.088660\n",
       "17          JIGAWA                 0.079070\n",
       "18          KADUNA                 0.086957\n",
       "19            KANO                 0.091424\n",
       "20         KATSINA                 0.070776\n",
       "21           KEBBI                 0.099644\n",
       "22            KOGI                 0.082294\n",
       "23           KWARA                 0.068662\n",
       "24           LAGOS                 0.086538\n",
       "25       NASSARAWA                 0.088115\n",
       "26           NIGER                 0.066038\n",
       "27            OGUN                 0.069905\n",
       "28            ONDO                 0.104863\n",
       "29            OSUN                 0.097421\n",
       "30             OYO                 0.088078\n",
       "31         PLATEAU                 0.076225\n",
       "32          RIVERS                 0.085068\n",
       "33          SOKOTO                 0.080692\n",
       "34          TARABA                 0.083871\n",
       "35            YOBE                 0.077320\n",
       "36         ZAMFARA                 0.076923\n",
       "0           OTHERS                 0.083907"
      ]
     },
     "execution_count": 52,
     "metadata": {},
     "output_type": "execute_result"
    }
   ],
   "source": [
    "tr2 = tr2[['State_Of_Origin','State_Of_Origin_History']]\n",
    "mean = tr2['State_Of_Origin_History'].mean()\n",
    "l1 = {'State_Of_Origin':['OTHERS'],'State_Of_Origin_History':[mean]}\n",
    "df = pd.DataFrame(l1)\n",
    "tr2 = tr2.append(df)\n",
    "tr2"
   ]
  },
  {
   "cell_type": "code",
   "execution_count": 53,
   "metadata": {},
   "outputs": [
    {
     "data": {
      "text/plain": [
       "0"
      ]
     },
     "execution_count": 53,
     "metadata": {},
     "output_type": "execute_result"
    }
   ],
   "source": [
    "train_data = pd.merge(train_data,tr2,how='left',on='State_Of_Origin')\n",
    "test_data = pd.merge(test_data,tr2,how='left',on='State_Of_Origin')\n",
    "test = pd.merge(test,tr2,how='left',on='State_Of_Origin')\n",
    "train_data['State_Of_Origin_History'].isnull().sum()"
   ]
  },
  {
   "cell_type": "code",
   "execution_count": 54,
   "metadata": {},
   "outputs": [
    {
     "data": {
      "text/plain": [
       "0.03358048290070821"
      ]
     },
     "execution_count": 54,
     "metadata": {},
     "output_type": "execute_result"
    }
   ],
   "source": [
    "train_data['State_Of_Origin_History'].corr(train_data['Promoted_or_Not'])"
   ]
  },
  {
   "cell_type": "markdown",
   "metadata": {},
   "source": [
    "#### Feature 6 - Foreign Schooled History"
   ]
  },
  {
   "cell_type": "code",
   "execution_count": 55,
   "metadata": {},
   "outputs": [],
   "source": [
    "tar1 = train_data[train_data['Promoted_or_Not'] == 1].groupby('Foreign_schooled').agg({'Promoted_or_Not':'count'}).reset_index()\n",
    "tar1.columns = ['Foreign_schooled','Promoted_Count']\n",
    "\n",
    "tar2 = train_data.groupby('Foreign_schooled').agg({'Promoted_or_Not':'count'}).reset_index()\n",
    "tar2.columns = ['Foreign_schooled','Total_Count']"
   ]
  },
  {
   "cell_type": "code",
   "execution_count": 56,
   "metadata": {},
   "outputs": [
    {
     "data": {
      "text/html": [
       "<div>\n",
       "<style scoped>\n",
       "    .dataframe tbody tr th:only-of-type {\n",
       "        vertical-align: middle;\n",
       "    }\n",
       "\n",
       "    .dataframe tbody tr th {\n",
       "        vertical-align: top;\n",
       "    }\n",
       "\n",
       "    .dataframe thead th {\n",
       "        text-align: right;\n",
       "    }\n",
       "</style>\n",
       "<table border=\"1\" class=\"dataframe\">\n",
       "  <thead>\n",
       "    <tr style=\"text-align: right;\">\n",
       "      <th></th>\n",
       "      <th>Foreign_schooled</th>\n",
       "      <th>Total_Count</th>\n",
       "      <th>Promoted_Count</th>\n",
       "    </tr>\n",
       "  </thead>\n",
       "  <tbody>\n",
       "    <tr>\n",
       "      <th>0</th>\n",
       "      <td>No</td>\n",
       "      <td>2488</td>\n",
       "      <td>203</td>\n",
       "    </tr>\n",
       "    <tr>\n",
       "      <th>1</th>\n",
       "      <td>Yes</td>\n",
       "      <td>26246</td>\n",
       "      <td>2223</td>\n",
       "    </tr>\n",
       "  </tbody>\n",
       "</table>\n",
       "</div>"
      ],
      "text/plain": [
       "  Foreign_schooled  Total_Count  Promoted_Count\n",
       "0               No         2488             203\n",
       "1              Yes        26246            2223"
      ]
     },
     "execution_count": 56,
     "metadata": {},
     "output_type": "execute_result"
    }
   ],
   "source": [
    "tar2 = pd.merge(tar2,tar1,how='left',on='Foreign_schooled')\n",
    "tar2"
   ]
  },
  {
   "cell_type": "code",
   "execution_count": 57,
   "metadata": {},
   "outputs": [],
   "source": [
    "tar2['Promoted_Count'].fillna(1,inplace=True)\n",
    "tar2['Foreign_schooled_History'] = tar2['Promoted_Count']/tar2['Total_Count']\n",
    "tar2 = tar2[['Foreign_schooled','Foreign_schooled_History']]"
   ]
  },
  {
   "cell_type": "code",
   "execution_count": 58,
   "metadata": {},
   "outputs": [
    {
     "data": {
      "text/html": [
       "<div>\n",
       "<style scoped>\n",
       "    .dataframe tbody tr th:only-of-type {\n",
       "        vertical-align: middle;\n",
       "    }\n",
       "\n",
       "    .dataframe tbody tr th {\n",
       "        vertical-align: top;\n",
       "    }\n",
       "\n",
       "    .dataframe thead th {\n",
       "        text-align: right;\n",
       "    }\n",
       "</style>\n",
       "<table border=\"1\" class=\"dataframe\">\n",
       "  <thead>\n",
       "    <tr style=\"text-align: right;\">\n",
       "      <th></th>\n",
       "      <th>Foreign_schooled</th>\n",
       "      <th>Foreign_schooled_History</th>\n",
       "    </tr>\n",
       "  </thead>\n",
       "  <tbody>\n",
       "    <tr>\n",
       "      <th>0</th>\n",
       "      <td>No</td>\n",
       "      <td>0.081592</td>\n",
       "    </tr>\n",
       "    <tr>\n",
       "      <th>1</th>\n",
       "      <td>Yes</td>\n",
       "      <td>0.084699</td>\n",
       "    </tr>\n",
       "    <tr>\n",
       "      <th>0</th>\n",
       "      <td>OTHERS</td>\n",
       "      <td>0.083145</td>\n",
       "    </tr>\n",
       "  </tbody>\n",
       "</table>\n",
       "</div>"
      ],
      "text/plain": [
       "  Foreign_schooled  Foreign_schooled_History\n",
       "0               No                  0.081592\n",
       "1              Yes                  0.084699\n",
       "0           OTHERS                  0.083145"
      ]
     },
     "execution_count": 58,
     "metadata": {},
     "output_type": "execute_result"
    }
   ],
   "source": [
    "tar2 = tar2[['Foreign_schooled','Foreign_schooled_History']]\n",
    "mean = tar2['Foreign_schooled_History'].mean()\n",
    "l1 = {'Foreign_schooled':['OTHERS'],'Foreign_schooled_History':[mean]}\n",
    "df = pd.DataFrame(l1)\n",
    "tar2 = tar2.append(df)\n",
    "tar2"
   ]
  },
  {
   "cell_type": "code",
   "execution_count": 59,
   "metadata": {},
   "outputs": [
    {
     "data": {
      "text/plain": [
       "0"
      ]
     },
     "execution_count": 59,
     "metadata": {},
     "output_type": "execute_result"
    }
   ],
   "source": [
    "train_data = pd.merge(train_data,tar2,how='left',on='Foreign_schooled')\n",
    "test_data = pd.merge(test_data,tar2,how='left',on='Foreign_schooled')\n",
    "test = pd.merge(test,tar2,how='left',on='Foreign_schooled')\n",
    "train_data['Foreign_schooled_History'].isnull().sum()"
   ]
  },
  {
   "cell_type": "code",
   "execution_count": 60,
   "metadata": {},
   "outputs": [
    {
     "data": {
      "text/plain": [
       "0.0031427223548433462"
      ]
     },
     "execution_count": 60,
     "metadata": {},
     "output_type": "execute_result"
    }
   ],
   "source": [
    "train_data['Foreign_schooled_History'].corr(train_data['Promoted_or_Not'])"
   ]
  },
  {
   "cell_type": "markdown",
   "metadata": {},
   "source": [
    "#### Feature 7 - Marital Status History"
   ]
  },
  {
   "cell_type": "code",
   "execution_count": 61,
   "metadata": {},
   "outputs": [],
   "source": [
    "tar1 = train_data[train_data['Promoted_or_Not'] == 1].groupby('Marital_Status').agg({'Promoted_or_Not':'count'}).reset_index()\n",
    "tar1.columns = ['Marital_Status','Promoted_Count']\n",
    "\n",
    "tar2 = train_data.groupby('Marital_Status').agg({'Promoted_or_Not':'count'}).reset_index()\n",
    "tar2.columns = ['Marital_Status','Total_Count']"
   ]
  },
  {
   "cell_type": "code",
   "execution_count": 62,
   "metadata": {},
   "outputs": [
    {
     "data": {
      "text/html": [
       "<div>\n",
       "<style scoped>\n",
       "    .dataframe tbody tr th:only-of-type {\n",
       "        vertical-align: middle;\n",
       "    }\n",
       "\n",
       "    .dataframe tbody tr th {\n",
       "        vertical-align: top;\n",
       "    }\n",
       "\n",
       "    .dataframe thead th {\n",
       "        text-align: right;\n",
       "    }\n",
       "</style>\n",
       "<table border=\"1\" class=\"dataframe\">\n",
       "  <thead>\n",
       "    <tr style=\"text-align: right;\">\n",
       "      <th></th>\n",
       "      <th>Marital_Status</th>\n",
       "      <th>Total_Count</th>\n",
       "      <th>Promoted_Count</th>\n",
       "    </tr>\n",
       "  </thead>\n",
       "  <tbody>\n",
       "    <tr>\n",
       "      <th>0</th>\n",
       "      <td>Married</td>\n",
       "      <td>23228</td>\n",
       "      <td>1952</td>\n",
       "    </tr>\n",
       "    <tr>\n",
       "      <th>1</th>\n",
       "      <td>Not_Sure</td>\n",
       "      <td>270</td>\n",
       "      <td>32</td>\n",
       "    </tr>\n",
       "    <tr>\n",
       "      <th>2</th>\n",
       "      <td>Single</td>\n",
       "      <td>5236</td>\n",
       "      <td>442</td>\n",
       "    </tr>\n",
       "  </tbody>\n",
       "</table>\n",
       "</div>"
      ],
      "text/plain": [
       "  Marital_Status  Total_Count  Promoted_Count\n",
       "0        Married        23228            1952\n",
       "1       Not_Sure          270              32\n",
       "2         Single         5236             442"
      ]
     },
     "execution_count": 62,
     "metadata": {},
     "output_type": "execute_result"
    }
   ],
   "source": [
    "tar2 = pd.merge(tar2,tar1,how='left',on='Marital_Status')\n",
    "tar2"
   ]
  },
  {
   "cell_type": "code",
   "execution_count": 63,
   "metadata": {},
   "outputs": [],
   "source": [
    "tar2['Promoted_Count'].fillna(1,inplace=True)\n",
    "tar2['Marital_Status_History'] = tar2['Promoted_Count']/tar2['Total_Count']\n",
    "tar2 = tar2[['Marital_Status','Marital_Status_History']]"
   ]
  },
  {
   "cell_type": "code",
   "execution_count": 64,
   "metadata": {},
   "outputs": [
    {
     "data": {
      "text/html": [
       "<div>\n",
       "<style scoped>\n",
       "    .dataframe tbody tr th:only-of-type {\n",
       "        vertical-align: middle;\n",
       "    }\n",
       "\n",
       "    .dataframe tbody tr th {\n",
       "        vertical-align: top;\n",
       "    }\n",
       "\n",
       "    .dataframe thead th {\n",
       "        text-align: right;\n",
       "    }\n",
       "</style>\n",
       "<table border=\"1\" class=\"dataframe\">\n",
       "  <thead>\n",
       "    <tr style=\"text-align: right;\">\n",
       "      <th></th>\n",
       "      <th>Marital_Status</th>\n",
       "      <th>Marital_Status_History</th>\n",
       "    </tr>\n",
       "  </thead>\n",
       "  <tbody>\n",
       "    <tr>\n",
       "      <th>0</th>\n",
       "      <td>Married</td>\n",
       "      <td>0.084037</td>\n",
       "    </tr>\n",
       "    <tr>\n",
       "      <th>1</th>\n",
       "      <td>Not_Sure</td>\n",
       "      <td>0.118519</td>\n",
       "    </tr>\n",
       "    <tr>\n",
       "      <th>2</th>\n",
       "      <td>Single</td>\n",
       "      <td>0.084416</td>\n",
       "    </tr>\n",
       "    <tr>\n",
       "      <th>0</th>\n",
       "      <td>OTHERS</td>\n",
       "      <td>0.095657</td>\n",
       "    </tr>\n",
       "  </tbody>\n",
       "</table>\n",
       "</div>"
      ],
      "text/plain": [
       "  Marital_Status  Marital_Status_History\n",
       "0        Married                0.084037\n",
       "1       Not_Sure                0.118519\n",
       "2         Single                0.084416\n",
       "0         OTHERS                0.095657"
      ]
     },
     "execution_count": 64,
     "metadata": {},
     "output_type": "execute_result"
    }
   ],
   "source": [
    "tar2 = tar2[['Marital_Status','Marital_Status_History']]\n",
    "mean = tar2['Marital_Status_History'].mean()\n",
    "l1 = {'Marital_Status':['OTHERS'],'Marital_Status_History':[mean]}\n",
    "df = pd.DataFrame(l1)\n",
    "tar2 = tar2.append(df)\n",
    "tar2"
   ]
  },
  {
   "cell_type": "code",
   "execution_count": 65,
   "metadata": {},
   "outputs": [
    {
     "data": {
      "text/plain": [
       "0"
      ]
     },
     "execution_count": 65,
     "metadata": {},
     "output_type": "execute_result"
    }
   ],
   "source": [
    "train_data = pd.merge(train_data,tar2,how='left',on='Marital_Status')\n",
    "test_data = pd.merge(test_data,tar2,how='left',on='Marital_Status')\n",
    "test = pd.merge(test,tar2,how='left',on='Marital_Status')\n",
    "train_data['Marital_Status_History'].isnull().sum()"
   ]
  },
  {
   "cell_type": "code",
   "execution_count": 66,
   "metadata": {},
   "outputs": [
    {
     "data": {
      "text/plain": [
       "0.011952933799430479"
      ]
     },
     "execution_count": 66,
     "metadata": {},
     "output_type": "execute_result"
    }
   ],
   "source": [
    "train_data['Marital_Status_History'].corr(train_data['Promoted_or_Not'])"
   ]
  },
  {
   "cell_type": "markdown",
   "metadata": {},
   "source": [
    "#### Feature 8 - Past_Disciplinary_Action History"
   ]
  },
  {
   "cell_type": "code",
   "execution_count": 67,
   "metadata": {},
   "outputs": [],
   "source": [
    "tar1 = train_data[train_data['Promoted_or_Not'] == 1].groupby('Past_Disciplinary_Action').agg({'Promoted_or_Not':'count'}).reset_index()\n",
    "tar1.columns = ['Past_Disciplinary_Action','Promoted_Count']\n",
    "\n",
    "tar2 = train_data.groupby('Past_Disciplinary_Action').agg({'Promoted_or_Not':'count'}).reset_index()\n",
    "tar2.columns = ['Past_Disciplinary_Action','Total_Count']"
   ]
  },
  {
   "cell_type": "code",
   "execution_count": 68,
   "metadata": {},
   "outputs": [
    {
     "data": {
      "text/html": [
       "<div>\n",
       "<style scoped>\n",
       "    .dataframe tbody tr th:only-of-type {\n",
       "        vertical-align: middle;\n",
       "    }\n",
       "\n",
       "    .dataframe tbody tr th {\n",
       "        vertical-align: top;\n",
       "    }\n",
       "\n",
       "    .dataframe thead th {\n",
       "        text-align: right;\n",
       "    }\n",
       "</style>\n",
       "<table border=\"1\" class=\"dataframe\">\n",
       "  <thead>\n",
       "    <tr style=\"text-align: right;\">\n",
       "      <th></th>\n",
       "      <th>Past_Disciplinary_Action</th>\n",
       "      <th>Total_Count</th>\n",
       "      <th>Promoted_Count</th>\n",
       "    </tr>\n",
       "  </thead>\n",
       "  <tbody>\n",
       "    <tr>\n",
       "      <th>0</th>\n",
       "      <td>No</td>\n",
       "      <td>28616</td>\n",
       "      <td>2412</td>\n",
       "    </tr>\n",
       "    <tr>\n",
       "      <th>1</th>\n",
       "      <td>Yes</td>\n",
       "      <td>118</td>\n",
       "      <td>14</td>\n",
       "    </tr>\n",
       "  </tbody>\n",
       "</table>\n",
       "</div>"
      ],
      "text/plain": [
       "  Past_Disciplinary_Action  Total_Count  Promoted_Count\n",
       "0                       No        28616            2412\n",
       "1                      Yes          118              14"
      ]
     },
     "execution_count": 68,
     "metadata": {},
     "output_type": "execute_result"
    }
   ],
   "source": [
    "tar2 = pd.merge(tar2,tar1,how='left',on='Past_Disciplinary_Action')\n",
    "tar2"
   ]
  },
  {
   "cell_type": "code",
   "execution_count": 69,
   "metadata": {},
   "outputs": [],
   "source": [
    "tar2['Promoted_Count'].fillna(1,inplace=True)\n",
    "tar2['Past_Disciplinary_Action_History'] = tar2['Promoted_Count']/tar2['Total_Count']\n",
    "tar2 = tar2[['Past_Disciplinary_Action','Past_Disciplinary_Action_History']]"
   ]
  },
  {
   "cell_type": "code",
   "execution_count": 70,
   "metadata": {},
   "outputs": [
    {
     "data": {
      "text/html": [
       "<div>\n",
       "<style scoped>\n",
       "    .dataframe tbody tr th:only-of-type {\n",
       "        vertical-align: middle;\n",
       "    }\n",
       "\n",
       "    .dataframe tbody tr th {\n",
       "        vertical-align: top;\n",
       "    }\n",
       "\n",
       "    .dataframe thead th {\n",
       "        text-align: right;\n",
       "    }\n",
       "</style>\n",
       "<table border=\"1\" class=\"dataframe\">\n",
       "  <thead>\n",
       "    <tr style=\"text-align: right;\">\n",
       "      <th></th>\n",
       "      <th>Past_Disciplinary_Action</th>\n",
       "      <th>Past_Disciplinary_Action_History</th>\n",
       "    </tr>\n",
       "  </thead>\n",
       "  <tbody>\n",
       "    <tr>\n",
       "      <th>0</th>\n",
       "      <td>No</td>\n",
       "      <td>0.084289</td>\n",
       "    </tr>\n",
       "    <tr>\n",
       "      <th>1</th>\n",
       "      <td>Yes</td>\n",
       "      <td>0.118644</td>\n",
       "    </tr>\n",
       "    <tr>\n",
       "      <th>0</th>\n",
       "      <td>OTHERS</td>\n",
       "      <td>0.101466</td>\n",
       "    </tr>\n",
       "  </tbody>\n",
       "</table>\n",
       "</div>"
      ],
      "text/plain": [
       "  Past_Disciplinary_Action  Past_Disciplinary_Action_History\n",
       "0                       No                          0.084289\n",
       "1                      Yes                          0.118644\n",
       "0                   OTHERS                          0.101466"
      ]
     },
     "execution_count": 70,
     "metadata": {},
     "output_type": "execute_result"
    }
   ],
   "source": [
    "tar2 = tar2[['Past_Disciplinary_Action','Past_Disciplinary_Action_History']]\n",
    "mean = tar2['Past_Disciplinary_Action_History'].mean()\n",
    "l1 = {'Past_Disciplinary_Action':['OTHERS'],'Past_Disciplinary_Action_History':[mean]}\n",
    "df = pd.DataFrame(l1)\n",
    "tar2 = tar2.append(df)\n",
    "tar2"
   ]
  },
  {
   "cell_type": "code",
   "execution_count": 71,
   "metadata": {},
   "outputs": [
    {
     "data": {
      "text/plain": [
       "0"
      ]
     },
     "execution_count": 71,
     "metadata": {},
     "output_type": "execute_result"
    }
   ],
   "source": [
    "train_data = pd.merge(train_data,tar2,how='left',on='Past_Disciplinary_Action')\n",
    "test_data = pd.merge(test_data,tar2,how='left',on='Past_Disciplinary_Action')\n",
    "test = pd.merge(test,tar2,how='left',on='Past_Disciplinary_Action')\n",
    "train_data['Past_Disciplinary_Action_History'].isnull().sum()"
   ]
  },
  {
   "cell_type": "code",
   "execution_count": 72,
   "metadata": {},
   "outputs": [
    {
     "data": {
      "text/plain": [
       "0.007902293529633484"
      ]
     },
     "execution_count": 72,
     "metadata": {},
     "output_type": "execute_result"
    }
   ],
   "source": [
    "train_data['Past_Disciplinary_Action_History'].corr(train_data['Promoted_or_Not'])"
   ]
  },
  {
   "cell_type": "markdown",
   "metadata": {},
   "source": [
    "#### Feature 9 - Previous_IntraDepartmental_Movement History"
   ]
  },
  {
   "cell_type": "code",
   "execution_count": 73,
   "metadata": {},
   "outputs": [],
   "source": [
    "tar1 = train_data[train_data['Promoted_or_Not'] == 1].groupby('Previous_IntraDepartmental_Movement').agg({'Promoted_or_Not':'count'}).reset_index()\n",
    "tar1.columns = ['Previous_IntraDepartmental_Movement','Promoted_Count']\n",
    "\n",
    "tar2 = train_data.groupby('Previous_IntraDepartmental_Movement').agg({'Promoted_or_Not':'count'}).reset_index()\n",
    "tar2.columns = ['Previous_IntraDepartmental_Movement','Total_Count']"
   ]
  },
  {
   "cell_type": "code",
   "execution_count": 74,
   "metadata": {},
   "outputs": [
    {
     "data": {
      "text/html": [
       "<div>\n",
       "<style scoped>\n",
       "    .dataframe tbody tr th:only-of-type {\n",
       "        vertical-align: middle;\n",
       "    }\n",
       "\n",
       "    .dataframe tbody tr th {\n",
       "        vertical-align: top;\n",
       "    }\n",
       "\n",
       "    .dataframe thead th {\n",
       "        text-align: right;\n",
       "    }\n",
       "</style>\n",
       "<table border=\"1\" class=\"dataframe\">\n",
       "  <thead>\n",
       "    <tr style=\"text-align: right;\">\n",
       "      <th></th>\n",
       "      <th>Previous_IntraDepartmental_Movement</th>\n",
       "      <th>Total_Count</th>\n",
       "      <th>Promoted_Count</th>\n",
       "    </tr>\n",
       "  </thead>\n",
       "  <tbody>\n",
       "    <tr>\n",
       "      <th>0</th>\n",
       "      <td>No</td>\n",
       "      <td>26018</td>\n",
       "      <td>2214</td>\n",
       "    </tr>\n",
       "    <tr>\n",
       "      <th>1</th>\n",
       "      <td>Yes</td>\n",
       "      <td>2716</td>\n",
       "      <td>212</td>\n",
       "    </tr>\n",
       "  </tbody>\n",
       "</table>\n",
       "</div>"
      ],
      "text/plain": [
       "  Previous_IntraDepartmental_Movement  Total_Count  Promoted_Count\n",
       "0                                  No        26018            2214\n",
       "1                                 Yes         2716             212"
      ]
     },
     "execution_count": 74,
     "metadata": {},
     "output_type": "execute_result"
    }
   ],
   "source": [
    "tar2 = pd.merge(tar2,tar1,how='left',on='Previous_IntraDepartmental_Movement')\n",
    "tar2"
   ]
  },
  {
   "cell_type": "code",
   "execution_count": 75,
   "metadata": {},
   "outputs": [],
   "source": [
    "tar2['Promoted_Count'].fillna(1,inplace=True)\n",
    "tar2['Previous_IntraDepartmental_Movement_History'] = tar2['Promoted_Count']/tar2['Total_Count']\n",
    "tar2 = tar2[['Previous_IntraDepartmental_Movement','Previous_IntraDepartmental_Movement_History']]"
   ]
  },
  {
   "cell_type": "code",
   "execution_count": 76,
   "metadata": {},
   "outputs": [
    {
     "data": {
      "text/html": [
       "<div>\n",
       "<style scoped>\n",
       "    .dataframe tbody tr th:only-of-type {\n",
       "        vertical-align: middle;\n",
       "    }\n",
       "\n",
       "    .dataframe tbody tr th {\n",
       "        vertical-align: top;\n",
       "    }\n",
       "\n",
       "    .dataframe thead th {\n",
       "        text-align: right;\n",
       "    }\n",
       "</style>\n",
       "<table border=\"1\" class=\"dataframe\">\n",
       "  <thead>\n",
       "    <tr style=\"text-align: right;\">\n",
       "      <th></th>\n",
       "      <th>Previous_IntraDepartmental_Movement</th>\n",
       "      <th>Previous_IntraDepartmental_Movement_History</th>\n",
       "    </tr>\n",
       "  </thead>\n",
       "  <tbody>\n",
       "    <tr>\n",
       "      <th>0</th>\n",
       "      <td>No</td>\n",
       "      <td>0.085095</td>\n",
       "    </tr>\n",
       "    <tr>\n",
       "      <th>1</th>\n",
       "      <td>Yes</td>\n",
       "      <td>0.078056</td>\n",
       "    </tr>\n",
       "    <tr>\n",
       "      <th>0</th>\n",
       "      <td>OTHERS</td>\n",
       "      <td>0.081575</td>\n",
       "    </tr>\n",
       "  </tbody>\n",
       "</table>\n",
       "</div>"
      ],
      "text/plain": [
       "  Previous_IntraDepartmental_Movement  \\\n",
       "0                                  No   \n",
       "1                                 Yes   \n",
       "0                              OTHERS   \n",
       "\n",
       "   Previous_IntraDepartmental_Movement_History  \n",
       "0                                     0.085095  \n",
       "1                                     0.078056  \n",
       "0                                     0.081575  "
      ]
     },
     "execution_count": 76,
     "metadata": {},
     "output_type": "execute_result"
    }
   ],
   "source": [
    "tar2 = tar2[['Previous_IntraDepartmental_Movement','Previous_IntraDepartmental_Movement_History']]\n",
    "mean = tar2['Previous_IntraDepartmental_Movement_History'].mean()\n",
    "l1 = {'Previous_IntraDepartmental_Movement':['OTHERS'],'Previous_IntraDepartmental_Movement_History':[mean]}\n",
    "df = pd.DataFrame(l1)\n",
    "tar2 = tar2.append(df)\n",
    "tar2"
   ]
  },
  {
   "cell_type": "code",
   "execution_count": 77,
   "metadata": {},
   "outputs": [
    {
     "data": {
      "text/plain": [
       "0"
      ]
     },
     "execution_count": 77,
     "metadata": {},
     "output_type": "execute_result"
    }
   ],
   "source": [
    "train_data = pd.merge(train_data,tar2,how='left',on='Previous_IntraDepartmental_Movement')\n",
    "test_data = pd.merge(test_data,tar2,how='left',on='Previous_IntraDepartmental_Movement')\n",
    "test = pd.merge(test,tar2,how='left',on='Previous_IntraDepartmental_Movement')\n",
    "train_data['Previous_IntraDepartmental_Movement_History'].isnull().sum()"
   ]
  },
  {
   "cell_type": "code",
   "execution_count": 78,
   "metadata": {},
   "outputs": [
    {
     "data": {
      "text/plain": [
       "0.007406646434740449"
      ]
     },
     "execution_count": 78,
     "metadata": {},
     "output_type": "execute_result"
    }
   ],
   "source": [
    "train_data['Previous_IntraDepartmental_Movement_History'].corr(train_data['Promoted_or_Not'])"
   ]
  },
  {
   "cell_type": "markdown",
   "metadata": {},
   "source": [
    "#### Feature 10 - No_of_previous_employers History"
   ]
  },
  {
   "cell_type": "code",
   "execution_count": 79,
   "metadata": {},
   "outputs": [],
   "source": [
    "tar1 = train_data[train_data['Promoted_or_Not'] == 1].groupby('No_of_previous_employers').agg({'Promoted_or_Not':'count'}).reset_index()\n",
    "tar1.columns = ['No_of_previous_employers','Promoted_Count']\n",
    "\n",
    "tar2 = train_data.groupby('No_of_previous_employers').agg({'Promoted_or_Not':'count'}).reset_index()\n",
    "tar2.columns = ['No_of_previous_employers','Total_Count']"
   ]
  },
  {
   "cell_type": "code",
   "execution_count": 80,
   "metadata": {},
   "outputs": [
    {
     "data": {
      "text/html": [
       "<div>\n",
       "<style scoped>\n",
       "    .dataframe tbody tr th:only-of-type {\n",
       "        vertical-align: middle;\n",
       "    }\n",
       "\n",
       "    .dataframe tbody tr th {\n",
       "        vertical-align: top;\n",
       "    }\n",
       "\n",
       "    .dataframe thead th {\n",
       "        text-align: right;\n",
       "    }\n",
       "</style>\n",
       "<table border=\"1\" class=\"dataframe\">\n",
       "  <thead>\n",
       "    <tr style=\"text-align: right;\">\n",
       "      <th></th>\n",
       "      <th>No_of_previous_employers</th>\n",
       "      <th>Total_Count</th>\n",
       "      <th>Promoted_Count</th>\n",
       "    </tr>\n",
       "  </thead>\n",
       "  <tbody>\n",
       "    <tr>\n",
       "      <th>0</th>\n",
       "      <td>0</td>\n",
       "      <td>9965</td>\n",
       "      <td>831</td>\n",
       "    </tr>\n",
       "    <tr>\n",
       "      <th>1</th>\n",
       "      <td>1</td>\n",
       "      <td>14110</td>\n",
       "      <td>1183</td>\n",
       "    </tr>\n",
       "    <tr>\n",
       "      <th>2</th>\n",
       "      <td>2</td>\n",
       "      <td>1460</td>\n",
       "      <td>138</td>\n",
       "    </tr>\n",
       "    <tr>\n",
       "      <th>3</th>\n",
       "      <td>3</td>\n",
       "      <td>1187</td>\n",
       "      <td>99</td>\n",
       "    </tr>\n",
       "    <tr>\n",
       "      <th>4</th>\n",
       "      <td>4</td>\n",
       "      <td>985</td>\n",
       "      <td>92</td>\n",
       "    </tr>\n",
       "    <tr>\n",
       "      <th>5</th>\n",
       "      <td>5</td>\n",
       "      <td>704</td>\n",
       "      <td>57</td>\n",
       "    </tr>\n",
       "    <tr>\n",
       "      <th>6</th>\n",
       "      <td>More than 5</td>\n",
       "      <td>323</td>\n",
       "      <td>26</td>\n",
       "    </tr>\n",
       "  </tbody>\n",
       "</table>\n",
       "</div>"
      ],
      "text/plain": [
       "  No_of_previous_employers  Total_Count  Promoted_Count\n",
       "0                        0         9965             831\n",
       "1                        1        14110            1183\n",
       "2                        2         1460             138\n",
       "3                        3         1187              99\n",
       "4                        4          985              92\n",
       "5                        5          704              57\n",
       "6              More than 5          323              26"
      ]
     },
     "execution_count": 80,
     "metadata": {},
     "output_type": "execute_result"
    }
   ],
   "source": [
    "tar2 = pd.merge(tar2,tar1,how='left',on='No_of_previous_employers')\n",
    "tar2"
   ]
  },
  {
   "cell_type": "code",
   "execution_count": 81,
   "metadata": {},
   "outputs": [],
   "source": [
    "tar2['Promoted_Count'].fillna(1,inplace=True)\n",
    "tar2['No_of_previous_employers_History'] = tar2['Promoted_Count']/tar2['Total_Count']\n",
    "tar2 = tar2[['No_of_previous_employers','No_of_previous_employers_History']]"
   ]
  },
  {
   "cell_type": "code",
   "execution_count": 82,
   "metadata": {},
   "outputs": [
    {
     "data": {
      "text/html": [
       "<div>\n",
       "<style scoped>\n",
       "    .dataframe tbody tr th:only-of-type {\n",
       "        vertical-align: middle;\n",
       "    }\n",
       "\n",
       "    .dataframe tbody tr th {\n",
       "        vertical-align: top;\n",
       "    }\n",
       "\n",
       "    .dataframe thead th {\n",
       "        text-align: right;\n",
       "    }\n",
       "</style>\n",
       "<table border=\"1\" class=\"dataframe\">\n",
       "  <thead>\n",
       "    <tr style=\"text-align: right;\">\n",
       "      <th></th>\n",
       "      <th>No_of_previous_employers</th>\n",
       "      <th>No_of_previous_employers_History</th>\n",
       "    </tr>\n",
       "  </thead>\n",
       "  <tbody>\n",
       "    <tr>\n",
       "      <th>0</th>\n",
       "      <td>0</td>\n",
       "      <td>0.083392</td>\n",
       "    </tr>\n",
       "    <tr>\n",
       "      <th>1</th>\n",
       "      <td>1</td>\n",
       "      <td>0.083841</td>\n",
       "    </tr>\n",
       "    <tr>\n",
       "      <th>2</th>\n",
       "      <td>2</td>\n",
       "      <td>0.094521</td>\n",
       "    </tr>\n",
       "    <tr>\n",
       "      <th>3</th>\n",
       "      <td>3</td>\n",
       "      <td>0.083404</td>\n",
       "    </tr>\n",
       "    <tr>\n",
       "      <th>4</th>\n",
       "      <td>4</td>\n",
       "      <td>0.093401</td>\n",
       "    </tr>\n",
       "    <tr>\n",
       "      <th>5</th>\n",
       "      <td>5</td>\n",
       "      <td>0.080966</td>\n",
       "    </tr>\n",
       "    <tr>\n",
       "      <th>6</th>\n",
       "      <td>More than 5</td>\n",
       "      <td>0.080495</td>\n",
       "    </tr>\n",
       "    <tr>\n",
       "      <th>0</th>\n",
       "      <td>OTHERS</td>\n",
       "      <td>0.085717</td>\n",
       "    </tr>\n",
       "  </tbody>\n",
       "</table>\n",
       "</div>"
      ],
      "text/plain": [
       "  No_of_previous_employers  No_of_previous_employers_History\n",
       "0                        0                          0.083392\n",
       "1                        1                          0.083841\n",
       "2                        2                          0.094521\n",
       "3                        3                          0.083404\n",
       "4                        4                          0.093401\n",
       "5                        5                          0.080966\n",
       "6              More than 5                          0.080495\n",
       "0                   OTHERS                          0.085717"
      ]
     },
     "execution_count": 82,
     "metadata": {},
     "output_type": "execute_result"
    }
   ],
   "source": [
    "tar2 = tar2[['No_of_previous_employers','No_of_previous_employers_History']]\n",
    "mean = tar2['No_of_previous_employers_History'].mean()\n",
    "l1 = {'No_of_previous_employers':['OTHERS'],'No_of_previous_employers_History':[mean]}\n",
    "df = pd.DataFrame(l1)\n",
    "tar2 = tar2.append(df)\n",
    "tar2"
   ]
  },
  {
   "cell_type": "code",
   "execution_count": 83,
   "metadata": {},
   "outputs": [
    {
     "data": {
      "text/plain": [
       "0"
      ]
     },
     "execution_count": 83,
     "metadata": {},
     "output_type": "execute_result"
    }
   ],
   "source": [
    "train_data = pd.merge(train_data,tar2,how='left',on='No_of_previous_employers')\n",
    "test_data = pd.merge(test_data,tar2,how='left',on='No_of_previous_employers')\n",
    "test = pd.merge(test,tar2,how='left',on='No_of_previous_employers')\n",
    "train_data['No_of_previous_employers_History'].isnull().sum()"
   ]
  },
  {
   "cell_type": "code",
   "execution_count": 84,
   "metadata": {},
   "outputs": [
    {
     "data": {
      "text/plain": [
       "0.010782886948712643"
      ]
     },
     "execution_count": 84,
     "metadata": {},
     "output_type": "execute_result"
    }
   ],
   "source": [
    "train_data['No_of_previous_employers_History'].corr(train_data['Promoted_or_Not'])"
   ]
  },
  {
   "cell_type": "code",
   "execution_count": 85,
   "metadata": {},
   "outputs": [
    {
     "data": {
      "text/plain": [
       "Index(['EmployeeNo', 'Division', 'Qualification', 'Gender',\n",
       "       'Channel_of_Recruitment', 'Trainings_Attended', 'Year_of_birth',\n",
       "       'Last_performance_score', 'Year_of_recruitment', 'Targets_met',\n",
       "       'Previous_Award', 'Training_score_average', 'State_Of_Origin',\n",
       "       'Foreign_schooled', 'Marital_Status', 'Past_Disciplinary_Action',\n",
       "       'Previous_IntraDepartmental_Movement', 'No_of_previous_employers',\n",
       "       'Promoted_or_Not', 'Division_History', 'Qualification_History',\n",
       "       'Recruitment_History', 'Gender_History', 'State_Of_Origin_History',\n",
       "       'Foreign_schooled_History', 'Marital_Status_History',\n",
       "       'Past_Disciplinary_Action_History',\n",
       "       'Previous_IntraDepartmental_Movement_History',\n",
       "       'No_of_previous_employers_History'],\n",
       "      dtype='object')"
      ]
     },
     "execution_count": 85,
     "metadata": {},
     "output_type": "execute_result"
    }
   ],
   "source": [
    "train_data.columns"
   ]
  },
  {
   "cell_type": "code",
   "execution_count": 86,
   "metadata": {},
   "outputs": [
    {
     "data": {
      "text/plain": [
       "<matplotlib.axes._subplots.AxesSubplot at 0x20c106ee908>"
      ]
     },
     "execution_count": 86,
     "metadata": {},
     "output_type": "execute_result"
    },
    {
     "data": {
      "image/png": "[encoded data removed]",
      "text/plain": [
       "<Figure size 1440x720 with 2 Axes>"
      ]
     },
     "metadata": {
      "needs_background": "light"
     },
     "output_type": "display_data"
    }
   ],
   "source": [
    "fig,ax=plt.subplots(figsize=(20,10))\n",
    "sns.heatmap(train_data.corr(),annot=True,annot_kws={'size':12})"
   ]
  },
  {
   "cell_type": "code",
   "execution_count": 87,
   "metadata": {},
   "outputs": [],
   "source": [
    "features = ['Last_performance_score','Targets_met','Previous_Award', 'Training_score_average','Division_History', 'Qualification_History']"
   ]
  },
  {
   "cell_type": "markdown",
   "metadata": {},
   "source": [
    "### Modelling on Train Data"
   ]
  },
  {
   "cell_type": "code",
   "execution_count": 88,
   "metadata": {},
   "outputs": [],
   "source": [
    "x_train = train_data[features]\n",
    "y_train = train_data['Promoted_or_Not']\n",
    "\n",
    "x_test = test_data[features]\n",
    "y_test = test_data['Promoted_or_Not']"
   ]
  },
  {
   "cell_type": "code",
   "execution_count": 89,
   "metadata": {},
   "outputs": [
    {
     "name": "stdout",
     "output_type": "stream",
     "text": [
      "(28734, 6) (28734,) (9578, 6) (9578,)\n"
     ]
    }
   ],
   "source": [
    "print(x_train.shape,y_train.shape,x_test.shape,y_test.shape)"
   ]
  },
  {
   "cell_type": "code",
   "execution_count": 90,
   "metadata": {},
   "outputs": [
    {
     "data": {
      "text/plain": [
       "Last_performance_score    0\n",
       "Targets_met               0\n",
       "Previous_Award            0\n",
       "Training_score_average    0\n",
       "Division_History          0\n",
       "Qualification_History     0\n",
       "dtype: int64"
      ]
     },
     "execution_count": 90,
     "metadata": {},
     "output_type": "execute_result"
    }
   ],
   "source": [
    "x_test.isna().sum()"
   ]
  },
  {
   "cell_type": "code",
   "execution_count": 91,
   "metadata": {},
   "outputs": [],
   "source": [
    "from sklearn.ensemble import RandomForestClassifier\n",
    "from sklearn.metrics import confusion_matrix\n",
    "from sklearn.metrics import classification_report\n",
    "from sklearn.utils.class_weight import compute_class_weight\n",
    "from sklearn.model_selection import GridSearchCV\n",
    "from sklearn.model_selection import StratifiedKFold"
   ]
  },
  {
   "cell_type": "markdown",
   "metadata": {},
   "source": [
    "### Random Forest"
   ]
  },
  {
   "cell_type": "code",
   "execution_count": 92,
   "metadata": {},
   "outputs": [],
   "source": [
    "clf = RandomForestClassifier(n_estimators=5,max_depth=13,random_state=10,class_weight={0:4.07,1:9.5})\n",
    "clf.fit(x_train,y_train)\n",
    "rfc_pred = clf.predict(x_test)"
   ]
  },
  {
   "cell_type": "code",
   "execution_count": 93,
   "metadata": {},
   "outputs": [
    {
     "name": "stdout",
     "output_type": "stream",
     "text": [
      "0    35071\n",
      "1     3241\n",
      "Name: Promoted_or_Not, dtype: int64\n",
      "--------------------------------------------------------------------------\n",
      "[[8663  100]\n",
      " [ 540  275]]\n",
      "--------------------------------------------------------------------------\n",
      "              precision    recall  f1-score   support\n",
      "\n",
      "           0       0.94      0.99      0.96      8763\n",
      "           1       0.73      0.34      0.46       815\n",
      "\n",
      "    accuracy                           0.93      9578\n",
      "   macro avg       0.84      0.66      0.71      9578\n",
      "weighted avg       0.92      0.93      0.92      9578\n",
      "\n"
     ]
    }
   ],
   "source": [
    "print(train.Promoted_or_Not.value_counts())\n",
    "print('--------------------------------------------------------------------------')\n",
    "print(confusion_matrix(y_test, rfc_pred))\n",
    "print('--------------------------------------------------------------------------')\n",
    "print(classification_report(y_test, rfc_pred))"
   ]
  },
  {
   "cell_type": "code",
   "execution_count": 94,
   "metadata": {},
   "outputs": [
    {
     "data": {
      "text/plain": [
       "93.31802046356233"
      ]
     },
     "execution_count": 94,
     "metadata": {},
     "output_type": "execute_result"
    }
   ],
   "source": [
    "clf.score(x_test,y_test)*100"
   ]
  },
  {
   "cell_type": "markdown",
   "metadata": {},
   "source": [
    "### Light GBM"
   ]
  },
  {
   "cell_type": "code",
   "execution_count": 95,
   "metadata": {},
   "outputs": [],
   "source": [
    "from lightgbm import LGBMClassifier\n",
    "lgbm=LGBMClassifier(objective = 'binary',\n",
    "                    n_estimators=10000,\n",
    "                    reg_alpha = 0.1,\n",
    "                    reg_lambda=0.1,\n",
    "                    n_jobs=-1,\n",
    "                    colsample_bytree=.8,\n",
    "                    min_child_weight=8,\n",
    "                    subsample=0.8715623,\n",
    "                    min_data_in_leaf=400,\n",
    "                    nthread=4,\n",
    "                    metric = 'f1',\n",
    "                    num_leaves = 600,\n",
    "                    learning_rate = 0.01,\n",
    "                    verbosity = -1,\n",
    "                    seed= 120,\n",
    "                    max_bin=60,\n",
    "                    max_depth = 20,\n",
    "                    min_gain_to_split=.0222415,\n",
    "                    scale_pos_weight=1)\n",
    "lgbm.fit(x_train,y_train)\n",
    "lgbm_pred = lgbm.predict(x_test)"
   ]
  },
  {
   "cell_type": "code",
   "execution_count": 96,
   "metadata": {},
   "outputs": [
    {
     "name": "stdout",
     "output_type": "stream",
     "text": [
      "[[8750   13]\n",
      " [ 557  258]]\n",
      "--------------------------------------------------------------------------\n",
      "              precision    recall  f1-score   support\n",
      "\n",
      "           0       0.94      1.00      0.97      8763\n",
      "           1       0.95      0.32      0.48       815\n",
      "\n",
      "    accuracy                           0.94      9578\n",
      "   macro avg       0.95      0.66      0.72      9578\n",
      "weighted avg       0.94      0.94      0.93      9578\n",
      "\n"
     ]
    }
   ],
   "source": [
    "print(confusion_matrix(y_test, lgbm_pred))\n",
    "print('--------------------------------------------------------------------------')\n",
    "print(classification_report(y_test, lgbm_pred))"
   ]
  },
  {
   "cell_type": "markdown",
   "metadata": {},
   "source": [
    "### Cat Boost"
   ]
  },
  {
   "cell_type": "code",
   "execution_count": 97,
   "metadata": {},
   "outputs": [
    {
     "name": "stdout",
     "output_type": "stream",
     "text": [
      "0:\tlearn: 0.6606695\ttotal: 170ms\tremaining: 42.4s\n",
      "1:\tlearn: 0.6341771\ttotal: 212ms\tremaining: 26.2s\n",
      "2:\tlearn: 0.6141387\ttotal: 248ms\tremaining: 20.4s\n",
      "3:\tlearn: 0.5873503\ttotal: 287ms\tremaining: 17.7s\n",
      "4:\tlearn: 0.5680926\ttotal: 300ms\tremaining: 14.7s\n",
      "5:\tlearn: 0.5429008\ttotal: 319ms\tremaining: 13s\n",
      "6:\tlearn: 0.5203702\ttotal: 335ms\tremaining: 11.6s\n",
      "7:\tlearn: 0.5052122\ttotal: 377ms\tremaining: 11.4s\n",
      "8:\tlearn: 0.4862687\ttotal: 395ms\tremaining: 10.6s\n",
      "9:\tlearn: 0.4717362\ttotal: 414ms\tremaining: 9.93s\n",
      "10:\tlearn: 0.4523960\ttotal: 443ms\tremaining: 9.63s\n",
      "11:\tlearn: 0.4392209\ttotal: 464ms\tremaining: 9.2s\n",
      "12:\tlearn: 0.4295251\ttotal: 476ms\tremaining: 8.68s\n",
      "13:\tlearn: 0.4191769\ttotal: 495ms\tremaining: 8.34s\n",
      "14:\tlearn: 0.4089185\ttotal: 517ms\tremaining: 8.1s\n",
      "15:\tlearn: 0.4012303\ttotal: 526ms\tremaining: 7.7s\n",
      "16:\tlearn: 0.3930206\ttotal: 549ms\tremaining: 7.53s\n",
      "17:\tlearn: 0.3823416\ttotal: 563ms\tremaining: 7.25s\n",
      "18:\tlearn: 0.3666299\ttotal: 622ms\tremaining: 7.56s\n",
      "19:\tlearn: 0.3585514\ttotal: 679ms\tremaining: 7.81s\n",
      "20:\tlearn: 0.3516282\ttotal: 693ms\tremaining: 7.56s\n",
      "21:\tlearn: 0.3448875\ttotal: 736ms\tremaining: 7.62s\n",
      "22:\tlearn: 0.3355448\ttotal: 750ms\tremaining: 7.41s\n",
      "23:\tlearn: 0.3294415\ttotal: 817ms\tremaining: 7.69s\n",
      "24:\tlearn: 0.3203172\ttotal: 867ms\tremaining: 7.8s\n",
      "25:\tlearn: 0.3158772\ttotal: 881ms\tremaining: 7.59s\n",
      "26:\tlearn: 0.3093197\ttotal: 919ms\tremaining: 7.59s\n",
      "27:\tlearn: 0.3013816\ttotal: 991ms\tremaining: 7.85s\n",
      "28:\tlearn: 0.2980137\ttotal: 1.02s\tremaining: 7.76s\n",
      "29:\tlearn: 0.2910659\ttotal: 1.06s\tremaining: 7.79s\n",
      "30:\tlearn: 0.2837133\ttotal: 1.11s\tremaining: 7.84s\n",
      "31:\tlearn: 0.2793803\ttotal: 1.16s\tremaining: 7.87s\n",
      "32:\tlearn: 0.2740950\ttotal: 1.22s\tremaining: 8s\n",
      "33:\tlearn: 0.2695026\ttotal: 1.26s\tremaining: 8s\n",
      "34:\tlearn: 0.2653518\ttotal: 1.28s\tremaining: 7.85s\n",
      "35:\tlearn: 0.2603814\ttotal: 1.33s\tremaining: 7.9s\n",
      "36:\tlearn: 0.2581558\ttotal: 1.34s\tremaining: 7.73s\n",
      "37:\tlearn: 0.2554717\ttotal: 1.37s\tremaining: 7.67s\n",
      "38:\tlearn: 0.2512298\ttotal: 1.42s\tremaining: 7.67s\n",
      "39:\tlearn: 0.2471519\ttotal: 1.47s\tremaining: 7.7s\n",
      "40:\tlearn: 0.2434541\ttotal: 1.51s\tremaining: 7.69s\n",
      "41:\tlearn: 0.2409001\ttotal: 1.56s\tremaining: 7.75s\n",
      "42:\tlearn: 0.2367259\ttotal: 1.61s\tremaining: 7.77s\n",
      "43:\tlearn: 0.2328937\ttotal: 1.66s\tremaining: 7.79s\n",
      "44:\tlearn: 0.2303847\ttotal: 1.73s\tremaining: 7.86s\n",
      "45:\tlearn: 0.2275184\ttotal: 1.77s\tremaining: 7.86s\n",
      "46:\tlearn: 0.2244391\ttotal: 1.82s\tremaining: 7.85s\n",
      "47:\tlearn: 0.2212904\ttotal: 1.87s\tremaining: 7.87s\n",
      "48:\tlearn: 0.2190867\ttotal: 1.91s\tremaining: 7.83s\n",
      "49:\tlearn: 0.2180537\ttotal: 1.92s\tremaining: 7.7s\n",
      "50:\tlearn: 0.2158829\ttotal: 1.98s\tremaining: 7.72s\n",
      "51:\tlearn: 0.2132133\ttotal: 2.02s\tremaining: 7.7s\n",
      "52:\tlearn: 0.2108336\ttotal: 2.07s\tremaining: 7.69s\n",
      "53:\tlearn: 0.2084906\ttotal: 2.12s\tremaining: 7.69s\n",
      "54:\tlearn: 0.2064599\ttotal: 2.16s\tremaining: 7.67s\n",
      "55:\tlearn: 0.2050282\ttotal: 2.21s\tremaining: 7.66s\n",
      "56:\tlearn: 0.2036786\ttotal: 2.26s\tremaining: 7.66s\n",
      "57:\tlearn: 0.2023434\ttotal: 2.31s\tremaining: 7.65s\n",
      "58:\tlearn: 0.2010590\ttotal: 2.37s\tremaining: 7.66s\n",
      "59:\tlearn: 0.1990890\ttotal: 2.41s\tremaining: 7.63s\n",
      "60:\tlearn: 0.1979330\ttotal: 2.47s\tremaining: 7.64s\n",
      "61:\tlearn: 0.1969258\ttotal: 2.51s\tremaining: 7.62s\n",
      "62:\tlearn: 0.1960753\ttotal: 2.56s\tremaining: 7.6s\n",
      "63:\tlearn: 0.1951174\ttotal: 2.61s\tremaining: 7.6s\n",
      "64:\tlearn: 0.1940089\ttotal: 2.67s\tremaining: 7.6s\n",
      "65:\tlearn: 0.1931145\ttotal: 2.71s\tremaining: 7.55s\n",
      "66:\tlearn: 0.1920830\ttotal: 2.75s\tremaining: 7.5s\n",
      "67:\tlearn: 0.1910306\ttotal: 2.79s\tremaining: 7.48s\n",
      "68:\tlearn: 0.1906797\ttotal: 2.81s\tremaining: 7.37s\n",
      "69:\tlearn: 0.1897858\ttotal: 2.86s\tremaining: 7.35s\n",
      "70:\tlearn: 0.1887857\ttotal: 2.88s\tremaining: 7.25s\n",
      "71:\tlearn: 0.1878978\ttotal: 2.93s\tremaining: 7.25s\n",
      "72:\tlearn: 0.1870255\ttotal: 2.98s\tremaining: 7.23s\n",
      "73:\tlearn: 0.1868099\ttotal: 2.99s\tremaining: 7.11s\n",
      "74:\tlearn: 0.1858734\ttotal: 3.04s\tremaining: 7.08s\n",
      "75:\tlearn: 0.1856985\ttotal: 3.04s\tremaining: 6.97s\n",
      "76:\tlearn: 0.1849789\ttotal: 3.1s\tremaining: 6.96s\n",
      "77:\tlearn: 0.1841226\ttotal: 3.15s\tremaining: 6.95s\n",
      "78:\tlearn: 0.1834592\ttotal: 3.2s\tremaining: 6.93s\n",
      "79:\tlearn: 0.1827791\ttotal: 3.25s\tremaining: 6.9s\n",
      "80:\tlearn: 0.1821889\ttotal: 3.29s\tremaining: 6.87s\n",
      "81:\tlearn: 0.1814331\ttotal: 3.34s\tremaining: 6.85s\n",
      "82:\tlearn: 0.1812726\ttotal: 3.36s\tremaining: 6.76s\n",
      "83:\tlearn: 0.1806299\ttotal: 3.4s\tremaining: 6.72s\n",
      "84:\tlearn: 0.1800404\ttotal: 3.46s\tremaining: 6.71s\n",
      "85:\tlearn: 0.1796821\ttotal: 3.51s\tremaining: 6.7s\n",
      "86:\tlearn: 0.1795808\ttotal: 3.52s\tremaining: 6.6s\n",
      "87:\tlearn: 0.1794862\ttotal: 3.53s\tremaining: 6.5s\n",
      "88:\tlearn: 0.1789366\ttotal: 3.59s\tremaining: 6.49s\n",
      "89:\tlearn: 0.1784034\ttotal: 3.63s\tremaining: 6.46s\n",
      "90:\tlearn: 0.1778562\ttotal: 3.69s\tremaining: 6.45s\n",
      "91:\tlearn: 0.1771865\ttotal: 3.73s\tremaining: 6.41s\n",
      "92:\tlearn: 0.1767415\ttotal: 3.79s\tremaining: 6.4s\n",
      "93:\tlearn: 0.1763295\ttotal: 3.83s\tremaining: 6.36s\n",
      "94:\tlearn: 0.1757682\ttotal: 3.88s\tremaining: 6.34s\n",
      "95:\tlearn: 0.1756513\ttotal: 3.9s\tremaining: 6.26s\n",
      "96:\tlearn: 0.1753728\ttotal: 3.95s\tremaining: 6.23s\n",
      "97:\tlearn: 0.1750133\ttotal: 4s\tremaining: 6.2s\n",
      "98:\tlearn: 0.1749362\ttotal: 4.01s\tremaining: 6.11s\n",
      "99:\tlearn: 0.1748701\ttotal: 4.02s\tremaining: 6.03s\n",
      "100:\tlearn: 0.1745016\ttotal: 4.06s\tremaining: 6s\n",
      "101:\tlearn: 0.1740086\ttotal: 4.11s\tremaining: 5.97s\n",
      "102:\tlearn: 0.1735198\ttotal: 4.18s\tremaining: 5.96s\n",
      "103:\tlearn: 0.1734281\ttotal: 4.19s\tremaining: 5.88s\n",
      "104:\tlearn: 0.1731281\ttotal: 4.24s\tremaining: 5.85s\n",
      "105:\tlearn: 0.1730507\ttotal: 4.25s\tremaining: 5.77s\n",
      "106:\tlearn: 0.1728380\ttotal: 4.27s\tremaining: 5.71s\n",
      "107:\tlearn: 0.1724168\ttotal: 4.32s\tremaining: 5.68s\n",
      "108:\tlearn: 0.1720220\ttotal: 4.36s\tremaining: 5.65s\n",
      "109:\tlearn: 0.1717034\ttotal: 4.42s\tremaining: 5.62s\n",
      "110:\tlearn: 0.1714415\ttotal: 4.47s\tremaining: 5.6s\n",
      "111:\tlearn: 0.1710981\ttotal: 4.52s\tremaining: 5.57s\n",
      "112:\tlearn: 0.1710703\ttotal: 4.54s\tremaining: 5.5s\n",
      "113:\tlearn: 0.1710437\ttotal: 4.55s\tremaining: 5.42s\n",
      "114:\tlearn: 0.1706758\ttotal: 4.59s\tremaining: 5.39s\n",
      "115:\tlearn: 0.1704385\ttotal: 4.63s\tremaining: 5.35s\n",
      "116:\tlearn: 0.1703985\ttotal: 4.65s\tremaining: 5.28s\n",
      "117:\tlearn: 0.1701359\ttotal: 4.7s\tremaining: 5.26s\n",
      "118:\tlearn: 0.1701099\ttotal: 4.71s\tremaining: 5.18s\n",
      "119:\tlearn: 0.1698229\ttotal: 4.79s\tremaining: 5.19s\n",
      "120:\tlearn: 0.1696160\ttotal: 4.85s\tremaining: 5.17s\n",
      "121:\tlearn: 0.1693725\ttotal: 4.87s\tremaining: 5.11s\n",
      "122:\tlearn: 0.1691488\ttotal: 4.89s\tremaining: 5.05s\n",
      "123:\tlearn: 0.1689380\ttotal: 4.96s\tremaining: 5.04s\n",
      "124:\tlearn: 0.1686765\ttotal: 5s\tremaining: 5s\n",
      "125:\tlearn: 0.1683999\ttotal: 5.04s\tremaining: 4.96s\n",
      "126:\tlearn: 0.1682006\ttotal: 5.09s\tremaining: 4.93s\n",
      "127:\tlearn: 0.1679657\ttotal: 5.13s\tremaining: 4.89s\n",
      "128:\tlearn: 0.1676188\ttotal: 5.17s\tremaining: 4.85s\n",
      "129:\tlearn: 0.1674329\ttotal: 5.22s\tremaining: 4.82s\n",
      "130:\tlearn: 0.1674112\ttotal: 5.23s\tremaining: 4.75s\n",
      "131:\tlearn: 0.1672270\ttotal: 5.29s\tremaining: 4.72s\n",
      "132:\tlearn: 0.1672155\ttotal: 5.29s\tremaining: 4.66s\n",
      "133:\tlearn: 0.1671317\ttotal: 5.31s\tremaining: 4.6s\n",
      "134:\tlearn: 0.1670106\ttotal: 5.35s\tremaining: 4.56s\n",
      "135:\tlearn: 0.1668719\ttotal: 5.39s\tremaining: 4.52s\n",
      "136:\tlearn: 0.1667200\ttotal: 5.43s\tremaining: 4.48s\n",
      "137:\tlearn: 0.1665480\ttotal: 5.47s\tremaining: 4.44s\n",
      "138:\tlearn: 0.1663313\ttotal: 5.52s\tremaining: 4.41s\n",
      "139:\tlearn: 0.1660306\ttotal: 5.56s\tremaining: 4.37s\n",
      "140:\tlearn: 0.1660231\ttotal: 5.57s\tremaining: 4.3s\n",
      "141:\tlearn: 0.1658767\ttotal: 5.59s\tremaining: 4.25s\n",
      "142:\tlearn: 0.1656897\ttotal: 5.64s\tremaining: 4.22s\n",
      "143:\tlearn: 0.1656685\ttotal: 5.66s\tremaining: 4.17s\n",
      "144:\tlearn: 0.1655420\ttotal: 5.7s\tremaining: 4.13s\n",
      "145:\tlearn: 0.1653902\ttotal: 5.74s\tremaining: 4.09s\n",
      "146:\tlearn: 0.1652357\ttotal: 5.78s\tremaining: 4.05s\n",
      "147:\tlearn: 0.1651722\ttotal: 5.79s\tremaining: 3.99s\n",
      "148:\tlearn: 0.1650733\ttotal: 5.85s\tremaining: 3.96s\n",
      "149:\tlearn: 0.1649858\ttotal: 5.9s\tremaining: 3.94s\n",
      "150:\tlearn: 0.1648055\ttotal: 5.94s\tremaining: 3.9s\n",
      "151:\tlearn: 0.1646410\ttotal: 5.98s\tremaining: 3.85s\n",
      "152:\tlearn: 0.1646185\ttotal: 6s\tremaining: 3.81s\n",
      "153:\tlearn: 0.1645225\ttotal: 6.05s\tremaining: 3.77s\n",
      "154:\tlearn: 0.1643718\ttotal: 6.1s\tremaining: 3.74s\n",
      "155:\tlearn: 0.1642404\ttotal: 6.14s\tremaining: 3.7s\n",
      "156:\tlearn: 0.1642316\ttotal: 6.15s\tremaining: 3.64s\n",
      "157:\tlearn: 0.1641298\ttotal: 6.21s\tremaining: 3.61s\n",
      "158:\tlearn: 0.1640046\ttotal: 6.27s\tremaining: 3.59s\n",
      "159:\tlearn: 0.1639390\ttotal: 6.32s\tremaining: 3.55s\n",
      "160:\tlearn: 0.1638848\ttotal: 6.36s\tremaining: 3.52s\n",
      "161:\tlearn: 0.1636886\ttotal: 6.4s\tremaining: 3.48s\n"
     ]
    },
    {
     "name": "stdout",
     "output_type": "stream",
     "text": [
      "162:\tlearn: 0.1635157\ttotal: 6.46s\tremaining: 3.44s\n",
      "163:\tlearn: 0.1633962\ttotal: 6.49s\tremaining: 3.4s\n",
      "164:\tlearn: 0.1632875\ttotal: 6.53s\tremaining: 3.37s\n",
      "165:\tlearn: 0.1631803\ttotal: 6.58s\tremaining: 3.33s\n",
      "166:\tlearn: 0.1631757\ttotal: 6.59s\tremaining: 3.27s\n",
      "167:\tlearn: 0.1630266\ttotal: 6.65s\tremaining: 3.24s\n",
      "168:\tlearn: 0.1629360\ttotal: 6.69s\tremaining: 3.21s\n",
      "169:\tlearn: 0.1628647\ttotal: 6.74s\tremaining: 3.17s\n",
      "170:\tlearn: 0.1627390\ttotal: 6.78s\tremaining: 3.13s\n",
      "171:\tlearn: 0.1626395\ttotal: 6.84s\tremaining: 3.1s\n",
      "172:\tlearn: 0.1624946\ttotal: 6.89s\tremaining: 3.07s\n",
      "173:\tlearn: 0.1623266\ttotal: 6.93s\tremaining: 3.03s\n",
      "174:\tlearn: 0.1622033\ttotal: 6.98s\tremaining: 2.99s\n",
      "175:\tlearn: 0.1621067\ttotal: 7.04s\tremaining: 2.96s\n",
      "176:\tlearn: 0.1619911\ttotal: 7.09s\tremaining: 2.93s\n",
      "177:\tlearn: 0.1619315\ttotal: 7.14s\tremaining: 2.89s\n",
      "178:\tlearn: 0.1618329\ttotal: 7.2s\tremaining: 2.85s\n",
      "179:\tlearn: 0.1617363\ttotal: 7.26s\tremaining: 2.82s\n",
      "180:\tlearn: 0.1616222\ttotal: 7.31s\tremaining: 2.79s\n",
      "181:\tlearn: 0.1615728\ttotal: 7.33s\tremaining: 2.74s\n",
      "182:\tlearn: 0.1615295\ttotal: 7.34s\tremaining: 2.69s\n",
      "183:\tlearn: 0.1614428\ttotal: 7.39s\tremaining: 2.65s\n",
      "184:\tlearn: 0.1613193\ttotal: 7.46s\tremaining: 2.62s\n",
      "185:\tlearn: 0.1612214\ttotal: 7.52s\tremaining: 2.59s\n",
      "186:\tlearn: 0.1610895\ttotal: 7.57s\tremaining: 2.55s\n",
      "187:\tlearn: 0.1610135\ttotal: 7.63s\tremaining: 2.52s\n",
      "188:\tlearn: 0.1610082\ttotal: 7.65s\tremaining: 2.47s\n",
      "189:\tlearn: 0.1608958\ttotal: 7.71s\tremaining: 2.43s\n",
      "190:\tlearn: 0.1607837\ttotal: 7.76s\tremaining: 2.4s\n",
      "191:\tlearn: 0.1607074\ttotal: 7.82s\tremaining: 2.36s\n",
      "192:\tlearn: 0.1606961\ttotal: 7.84s\tremaining: 2.31s\n",
      "193:\tlearn: 0.1606549\ttotal: 7.87s\tremaining: 2.27s\n",
      "194:\tlearn: 0.1605647\ttotal: 7.92s\tremaining: 2.23s\n",
      "195:\tlearn: 0.1604646\ttotal: 7.98s\tremaining: 2.2s\n",
      "196:\tlearn: 0.1603365\ttotal: 8.04s\tremaining: 2.16s\n",
      "197:\tlearn: 0.1602462\ttotal: 8.11s\tremaining: 2.13s\n",
      "198:\tlearn: 0.1601966\ttotal: 8.16s\tremaining: 2.09s\n",
      "199:\tlearn: 0.1601104\ttotal: 8.21s\tremaining: 2.05s\n",
      "200:\tlearn: 0.1600488\ttotal: 8.27s\tremaining: 2.01s\n",
      "201:\tlearn: 0.1599959\ttotal: 8.33s\tremaining: 1.98s\n",
      "202:\tlearn: 0.1599352\ttotal: 8.39s\tremaining: 1.94s\n",
      "203:\tlearn: 0.1598344\ttotal: 8.44s\tremaining: 1.9s\n",
      "204:\tlearn: 0.1597811\ttotal: 8.51s\tremaining: 1.87s\n",
      "205:\tlearn: 0.1597245\ttotal: 8.56s\tremaining: 1.83s\n",
      "206:\tlearn: 0.1596920\ttotal: 8.61s\tremaining: 1.79s\n",
      "207:\tlearn: 0.1596418\ttotal: 8.66s\tremaining: 1.75s\n",
      "208:\tlearn: 0.1596254\ttotal: 8.68s\tremaining: 1.7s\n",
      "209:\tlearn: 0.1595365\ttotal: 8.74s\tremaining: 1.67s\n",
      "210:\tlearn: 0.1594157\ttotal: 8.8s\tremaining: 1.63s\n",
      "211:\tlearn: 0.1592799\ttotal: 8.85s\tremaining: 1.59s\n",
      "212:\tlearn: 0.1592259\ttotal: 8.92s\tremaining: 1.55s\n",
      "213:\tlearn: 0.1590993\ttotal: 8.97s\tremaining: 1.51s\n",
      "214:\tlearn: 0.1590106\ttotal: 9.02s\tremaining: 1.47s\n",
      "215:\tlearn: 0.1589208\ttotal: 9.07s\tremaining: 1.43s\n",
      "216:\tlearn: 0.1588017\ttotal: 9.13s\tremaining: 1.39s\n",
      "217:\tlearn: 0.1587634\ttotal: 9.18s\tremaining: 1.35s\n",
      "218:\tlearn: 0.1587008\ttotal: 9.23s\tremaining: 1.31s\n",
      "219:\tlearn: 0.1586291\ttotal: 9.28s\tremaining: 1.26s\n",
      "220:\tlearn: 0.1586186\ttotal: 9.3s\tremaining: 1.22s\n",
      "221:\tlearn: 0.1585515\ttotal: 9.36s\tremaining: 1.18s\n",
      "222:\tlearn: 0.1585069\ttotal: 9.4s\tremaining: 1.14s\n",
      "223:\tlearn: 0.1584654\ttotal: 9.44s\tremaining: 1.09s\n",
      "224:\tlearn: 0.1584030\ttotal: 9.48s\tremaining: 1.05s\n",
      "225:\tlearn: 0.1583319\ttotal: 9.54s\tremaining: 1.01s\n",
      "226:\tlearn: 0.1582893\ttotal: 9.59s\tremaining: 972ms\n",
      "227:\tlearn: 0.1582234\ttotal: 9.63s\tremaining: 929ms\n",
      "228:\tlearn: 0.1581564\ttotal: 9.67s\tremaining: 887ms\n",
      "229:\tlearn: 0.1580947\ttotal: 9.72s\tremaining: 845ms\n",
      "230:\tlearn: 0.1579901\ttotal: 9.79s\tremaining: 805ms\n",
      "231:\tlearn: 0.1579258\ttotal: 9.82s\tremaining: 762ms\n",
      "232:\tlearn: 0.1578953\ttotal: 9.88s\tremaining: 721ms\n",
      "233:\tlearn: 0.1578351\ttotal: 9.94s\tremaining: 680ms\n",
      "234:\tlearn: 0.1577680\ttotal: 9.99s\tremaining: 638ms\n",
      "235:\tlearn: 0.1577229\ttotal: 10s\tremaining: 596ms\n",
      "236:\tlearn: 0.1576702\ttotal: 10.1s\tremaining: 554ms\n",
      "237:\tlearn: 0.1575808\ttotal: 10.2s\tremaining: 514ms\n",
      "238:\tlearn: 0.1575082\ttotal: 10.2s\tremaining: 472ms\n",
      "239:\tlearn: 0.1574629\ttotal: 10.3s\tremaining: 429ms\n",
      "240:\tlearn: 0.1574286\ttotal: 10.4s\tremaining: 387ms\n",
      "241:\tlearn: 0.1573890\ttotal: 10.4s\tremaining: 344ms\n",
      "242:\tlearn: 0.1573308\ttotal: 10.5s\tremaining: 301ms\n",
      "243:\tlearn: 0.1572975\ttotal: 10.5s\tremaining: 259ms\n",
      "244:\tlearn: 0.1572397\ttotal: 10.6s\tremaining: 216ms\n",
      "245:\tlearn: 0.1571954\ttotal: 10.6s\tremaining: 173ms\n",
      "246:\tlearn: 0.1571343\ttotal: 10.7s\tremaining: 130ms\n",
      "247:\tlearn: 0.1571047\ttotal: 10.7s\tremaining: 86.3ms\n",
      "248:\tlearn: 0.1571024\ttotal: 10.7s\tremaining: 43ms\n",
      "249:\tlearn: 0.1570608\ttotal: 10.8s\tremaining: 0us\n"
     ]
    }
   ],
   "source": [
    "from catboost import CatBoostClassifier\n",
    "cat = CatBoostClassifier(iterations=250, depth=10,learning_rate=0.02,loss_function='Logloss')\n",
    "cat.fit(x_train, y_train)\n",
    "cat_pred = cat.predict(x_test)"
   ]
  },
  {
   "cell_type": "code",
   "execution_count": 98,
   "metadata": {},
   "outputs": [
    {
     "name": "stdout",
     "output_type": "stream",
     "text": [
      "[[8752   11]\n",
      " [ 558  257]]\n",
      "--------------------------------------------------------------------------\n",
      "              precision    recall  f1-score   support\n",
      "\n",
      "           0       0.94      1.00      0.97      8763\n",
      "           1       0.96      0.32      0.47       815\n",
      "\n",
      "    accuracy                           0.94      9578\n",
      "   macro avg       0.95      0.66      0.72      9578\n",
      "weighted avg       0.94      0.94      0.93      9578\n",
      "\n"
     ]
    }
   ],
   "source": [
    "print(confusion_matrix(y_test, cat_pred))\n",
    "print('--------------------------------------------------------------------------')\n",
    "print(classification_report(y_test, cat_pred))"
   ]
  },
  {
   "cell_type": "markdown",
   "metadata": {},
   "source": [
    "### Modelling on Test Data"
   ]
  },
  {
   "cell_type": "code",
   "execution_count": 99,
   "metadata": {},
   "outputs": [
    {
     "data": {
      "text/plain": [
       "EmployeeNo                                     0\n",
       "Division                                       0\n",
       "Qualification                                  0\n",
       "Gender                                         0\n",
       "Channel_of_Recruitment                         0\n",
       "Trainings_Attended                             0\n",
       "Year_of_birth                                  0\n",
       "Last_performance_score                         0\n",
       "Year_of_recruitment                            0\n",
       "Targets_met                                    0\n",
       "Previous_Award                                 0\n",
       "Training_score_average                         0\n",
       "State_Of_Origin                                0\n",
       "Foreign_schooled                               0\n",
       "Marital_Status                                 0\n",
       "Past_Disciplinary_Action                       0\n",
       "Previous_IntraDepartmental_Movement            0\n",
       "No_of_previous_employers                       0\n",
       "Division_History                               0\n",
       "Qualification_History                          0\n",
       "Recruitment_History                            0\n",
       "Gender_History                                 0\n",
       "State_Of_Origin_History                        0\n",
       "Foreign_schooled_History                       0\n",
       "Marital_Status_History                         0\n",
       "Past_Disciplinary_Action_History               0\n",
       "Previous_IntraDepartmental_Movement_History    0\n",
       "No_of_previous_employers_History               0\n",
       "dtype: int64"
      ]
     },
     "execution_count": 99,
     "metadata": {},
     "output_type": "execute_result"
    }
   ],
   "source": [
    "test.isna().sum()"
   ]
  },
  {
   "cell_type": "code",
   "execution_count": 100,
   "metadata": {},
   "outputs": [],
   "source": [
    "X_train = train_data[features]\n",
    "Y_train = train_data['Promoted_or_Not']\n",
    "X_test = test[features]"
   ]
  },
  {
   "cell_type": "markdown",
   "metadata": {},
   "source": [
    "### Light GBM"
   ]
  },
  {
   "cell_type": "code",
   "execution_count": 101,
   "metadata": {},
   "outputs": [],
   "source": [
    "from lightgbm import LGBMClassifier\n",
    "lgbm=LGBMClassifier(objective = 'binary',\n",
    "                    n_estimators = 30000,\n",
    "                    reg_alpha = 0.1,\n",
    "                    reg_lambda=0.1,\n",
    "                    n_jobs=-1,\n",
    "                    colsample_bytree=.8,\n",
    "                    min_child_weight=8,\n",
    "                    subsample=0.8715623,\n",
    "                    min_data_in_leaf=200,\n",
    "                    nthread=4,\n",
    "                    metric = 'f1',\n",
    "                    num_leaves = 900,\n",
    "                    learning_rate = 0.01,\n",
    "                    verbosity = -1,\n",
    "                    seed= 120,\n",
    "                    max_bin=60,\n",
    "                    max_depth=25,\n",
    "                    min_gain_to_split=.0222415,\n",
    "                    scale_pos_weight=2)\n",
    "lgbm.fit(X_train,Y_train)\n",
    "lgbm_pred_test = lgbm.predict(X_test)"
   ]
  },
  {
   "cell_type": "code",
   "execution_count": 102,
   "metadata": {},
   "outputs": [
    {
     "data": {
      "text/plain": [
       "1    16496\n",
       "Name: Promoted_or_Not, dtype: int64"
      ]
     },
     "execution_count": 102,
     "metadata": {},
     "output_type": "execute_result"
    }
   ],
   "source": [
    "ss['Promoted_or_Not'].value_counts()"
   ]
  },
  {
   "cell_type": "code",
   "execution_count": 103,
   "metadata": {},
   "outputs": [],
   "source": [
    "ss['EmployeeNo'] = test['EmployeeNo']"
   ]
  },
  {
   "cell_type": "code",
   "execution_count": 104,
   "metadata": {},
   "outputs": [],
   "source": [
    "ss['Promoted_or_Not'] = lgbm_pred_test"
   ]
  },
  {
   "cell_type": "code",
   "execution_count": 105,
   "metadata": {},
   "outputs": [
    {
     "data": {
      "text/plain": [
       "0    15780\n",
       "1      716\n",
       "Name: Promoted_or_Not, dtype: int64"
      ]
     },
     "execution_count": 105,
     "metadata": {},
     "output_type": "execute_result"
    }
   ],
   "source": [
    "ss['Promoted_or_Not'].value_counts()"
   ]
  },
  {
   "cell_type": "code",
   "execution_count": 106,
   "metadata": {},
   "outputs": [],
   "source": [
    "ss.to_csv(r\"D:\\Downloads\\Data Science\\Kaggle\\Nigeria Staff Promotion\\Output\\LGBM3.csv\",index = False)"
   ]
  },
  {
   "cell_type": "code",
   "execution_count": null,
   "metadata": {},
   "outputs": [],
   "source": []
  }
 ],
 "metadata": {
  "kernelspec": {
   "display_name": "Python 3",
   "language": "python",
   "name": "python3"
  },
  "language_info": {
   "codemirror_mode": {
    "name": "ipython",
    "version": 3
   },
   "file_extension": ".py",
   "mimetype": "text/x-python",
   "name": "python",
   "nbconvert_exporter": "python",
   "pygments_lexer": "ipython3",
   "version": "3.7.3"
  }
 },
 "nbformat": 4,
 "nbformat_minor": 2
}
